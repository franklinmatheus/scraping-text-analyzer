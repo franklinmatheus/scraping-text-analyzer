{
 "cells": [
  {
   "cell_type": "code",
   "execution_count": 1,
   "metadata": {
    "colab": {
     "base_uri": "https://localhost:8080/",
     "height": 871
    },
    "colab_type": "code",
    "executionInfo": {
     "elapsed": 18290,
     "status": "ok",
     "timestamp": 1560989769891,
     "user": {
      "displayName": "Franklin Matheus",
      "photoUrl": "https://lh3.googleusercontent.com/-Rxb0HD2LMVE/AAAAAAAAAAI/AAAAAAAAADg/5rpsKrNME7M/s64/photo.jpg",
      "userId": "10408548631089952245"
     },
     "user_tz": 180
    },
    "id": "YenTPljk3EH-",
    "outputId": "ae8b1f8f-0927-4af4-bcea-b41c8875e66c"
   },
   "outputs": [
    {
     "name": "stdout",
     "output_type": "stream",
     "text": [
      "Requirement already satisfied: nltk in /home/franklin/anaconda3/lib/python3.6/site-packages (3.2.5)\n",
      "Requirement already satisfied: six in /home/franklin/anaconda3/lib/python3.6/site-packages (from nltk) (1.11.0)\n",
      "Requirement already satisfied: gensim in /home/franklin/anaconda3/lib/python3.6/site-packages (3.4.0)\n",
      "Requirement already satisfied: smart-open>=1.2.1 in /home/franklin/anaconda3/lib/python3.6/site-packages (from gensim) (1.5.7)\n",
      "Requirement already satisfied: six>=1.5.0 in /home/franklin/anaconda3/lib/python3.6/site-packages (from gensim) (1.11.0)\n",
      "Requirement already satisfied: numpy>=1.11.3 in /home/franklin/anaconda3/lib/python3.6/site-packages (from gensim) (1.16.3)\n",
      "Requirement already satisfied: scipy>=0.18.1 in /home/franklin/anaconda3/lib/python3.6/site-packages (from gensim) (1.3.0)\n",
      "Requirement already satisfied: requests in /home/franklin/anaconda3/lib/python3.6/site-packages (from smart-open>=1.2.1->gensim) (2.21.0)\n",
      "Requirement already satisfied: boto3 in /home/franklin/anaconda3/lib/python3.6/site-packages (from smart-open>=1.2.1->gensim) (1.7.10)\n",
      "Requirement already satisfied: boto>=2.32 in /home/franklin/anaconda3/lib/python3.6/site-packages (from smart-open>=1.2.1->gensim) (2.48.0)\n",
      "Requirement already satisfied: bz2file in /home/franklin/anaconda3/lib/python3.6/site-packages (from smart-open>=1.2.1->gensim) (0.98)\n",
      "Requirement already satisfied: urllib3<1.25,>=1.21.1 in /home/franklin/anaconda3/lib/python3.6/site-packages (from requests->smart-open>=1.2.1->gensim) (1.22)\n",
      "Requirement already satisfied: chardet<3.1.0,>=3.0.2 in /home/franklin/anaconda3/lib/python3.6/site-packages (from requests->smart-open>=1.2.1->gensim) (3.0.4)\n",
      "Requirement already satisfied: certifi>=2017.4.17 in /home/franklin/anaconda3/lib/python3.6/site-packages (from requests->smart-open>=1.2.1->gensim) (2019.3.9)\n",
      "Requirement already satisfied: idna<2.9,>=2.5 in /home/franklin/anaconda3/lib/python3.6/site-packages (from requests->smart-open>=1.2.1->gensim) (2.6)\n",
      "Requirement already satisfied: s3transfer<0.2.0,>=0.1.10 in /home/franklin/anaconda3/lib/python3.6/site-packages (from boto3->smart-open>=1.2.1->gensim) (0.1.13)\n",
      "Requirement already satisfied: jmespath<1.0.0,>=0.7.1 in /home/franklin/anaconda3/lib/python3.6/site-packages (from boto3->smart-open>=1.2.1->gensim) (0.9.3)\n",
      "Requirement already satisfied: botocore<1.11.0,>=1.10.10 in /home/franklin/anaconda3/lib/python3.6/site-packages (from boto3->smart-open>=1.2.1->gensim) (1.10.10)\n",
      "Requirement already satisfied: python-dateutil<3.0.0,>=2.1; python_version >= \"2.7\" in /home/franklin/anaconda3/lib/python3.6/site-packages (from botocore<1.11.0,>=1.10.10->boto3->smart-open>=1.2.1->gensim) (2.6.1)\n",
      "Requirement already satisfied: docutils>=0.10 in /home/franklin/anaconda3/lib/python3.6/site-packages (from botocore<1.11.0,>=1.10.10->boto3->smart-open>=1.2.1->gensim) (0.14)\n",
      "Collecting pyLDAvis\n",
      "\u001b[?25l  Downloading https://files.pythonhosted.org/packages/a5/3a/af82e070a8a96e13217c8f362f9a73e82d61ac8fff3a2561946a97f96266/pyLDAvis-2.1.2.tar.gz (1.6MB)\n",
      "\u001b[K     |████████████████████████████████| 1.6MB 652kB/s eta 0:00:01\n",
      "\u001b[?25hRequirement already satisfied: wheel>=0.23.0 in /home/franklin/anaconda3/lib/python3.6/site-packages (from pyLDAvis) (0.30.0)\n",
      "Requirement already satisfied: numpy>=1.9.2 in /home/franklin/anaconda3/lib/python3.6/site-packages (from pyLDAvis) (1.16.3)\n",
      "Requirement already satisfied: scipy>=0.18.0 in /home/franklin/anaconda3/lib/python3.6/site-packages (from pyLDAvis) (1.3.0)\n",
      "Requirement already satisfied: pandas>=0.17.0 in /home/franklin/anaconda3/lib/python3.6/site-packages (from pyLDAvis) (0.24.2)\n",
      "Requirement already satisfied: joblib>=0.8.4 in /home/franklin/anaconda3/lib/python3.6/site-packages (from pyLDAvis) (0.11)\n",
      "Requirement already satisfied: jinja2>=2.7.2 in /home/franklin/anaconda3/lib/python3.6/site-packages (from pyLDAvis) (2.10)\n",
      "Requirement already satisfied: numexpr in /home/franklin/anaconda3/lib/python3.6/site-packages (from pyLDAvis) (2.6.4)\n",
      "Requirement already satisfied: pytest in /home/franklin/anaconda3/lib/python3.6/site-packages (from pyLDAvis) (4.5.0)\n",
      "Requirement already satisfied: future in /home/franklin/anaconda3/lib/python3.6/site-packages (from pyLDAvis) (0.16.0)\n",
      "Collecting funcy (from pyLDAvis)\n",
      "  Downloading https://files.pythonhosted.org/packages/b3/23/d1f90f4e2af5f9d4921ab3797e33cf0503e3f130dd390a812f3bf59ce9ea/funcy-1.12-py2.py3-none-any.whl\n",
      "Requirement already satisfied: pytz>=2011k in /home/franklin/anaconda3/lib/python3.6/site-packages (from pandas>=0.17.0->pyLDAvis) (2017.3)\n",
      "Requirement already satisfied: python-dateutil>=2.5.0 in /home/franklin/anaconda3/lib/python3.6/site-packages (from pandas>=0.17.0->pyLDAvis) (2.6.1)\n",
      "Requirement already satisfied: MarkupSafe>=0.23 in /home/franklin/anaconda3/lib/python3.6/site-packages (from jinja2>=2.7.2->pyLDAvis) (1.0)\n",
      "Requirement already satisfied: atomicwrites>=1.0 in /home/franklin/anaconda3/lib/python3.6/site-packages (from pytest->pyLDAvis) (1.3.0)\n",
      "Requirement already satisfied: py>=1.5.0 in /home/franklin/anaconda3/lib/python3.6/site-packages (from pytest->pyLDAvis) (1.5.2)\n",
      "Requirement already satisfied: six>=1.10.0 in /home/franklin/anaconda3/lib/python3.6/site-packages (from pytest->pyLDAvis) (1.11.0)\n",
      "Requirement already satisfied: setuptools in /home/franklin/anaconda3/lib/python3.6/site-packages (from pytest->pyLDAvis) (41.0.1)\n",
      "Requirement already satisfied: more-itertools>=4.0.0; python_version > \"2.7\" in /home/franklin/anaconda3/lib/python3.6/site-packages (from pytest->pyLDAvis) (7.0.0)\n",
      "Requirement already satisfied: wcwidth in /home/franklin/anaconda3/lib/python3.6/site-packages (from pytest->pyLDAvis) (0.1.7)\n",
      "Requirement already satisfied: pluggy!=0.10,<1.0,>=0.9 in /home/franklin/anaconda3/lib/python3.6/site-packages (from pytest->pyLDAvis) (0.11.0)\n",
      "Requirement already satisfied: attrs>=17.4.0 in /home/franklin/anaconda3/lib/python3.6/site-packages (from pytest->pyLDAvis) (17.4.0)\n",
      "Building wheels for collected packages: pyLDAvis\n",
      "  Building wheel for pyLDAvis (setup.py) ... \u001b[?25ldone\n",
      "\u001b[?25h  Stored in directory: /home/franklin/.cache/pip/wheels/98/71/24/513a99e58bb6b8465bae4d2d5e9dba8f0bef8179e3051ac414\n",
      "Successfully built pyLDAvis\n",
      "Installing collected packages: funcy, pyLDAvis\n",
      "Successfully installed funcy-1.12 pyLDAvis-2.1.2\n",
      "Requirement already satisfied: networkx in /home/franklin/anaconda3/lib/python3.6/site-packages (2.3)\n",
      "Requirement already satisfied: decorator>=4.3.0 in /home/franklin/anaconda3/lib/python3.6/site-packages (from networkx) (4.4.0)\n",
      "Collecting googletrans\n",
      "  Downloading https://files.pythonhosted.org/packages/fd/f0/a22d41d3846d1f46a4f20086141e0428ccc9c6d644aacbfd30990cf46886/googletrans-2.4.0.tar.gz\n",
      "Requirement already satisfied: requests in /home/franklin/anaconda3/lib/python3.6/site-packages (from googletrans) (2.21.0)\n",
      "Requirement already satisfied: chardet<3.1.0,>=3.0.2 in /home/franklin/anaconda3/lib/python3.6/site-packages (from requests->googletrans) (3.0.4)\n",
      "Requirement already satisfied: certifi>=2017.4.17 in /home/franklin/anaconda3/lib/python3.6/site-packages (from requests->googletrans) (2019.3.9)\n",
      "Requirement already satisfied: urllib3<1.25,>=1.21.1 in /home/franklin/anaconda3/lib/python3.6/site-packages (from requests->googletrans) (1.22)\n",
      "Requirement already satisfied: idna<2.9,>=2.5 in /home/franklin/anaconda3/lib/python3.6/site-packages (from requests->googletrans) (2.6)\n",
      "Building wheels for collected packages: googletrans\n",
      "  Building wheel for googletrans (setup.py) ... \u001b[?25ldone\n",
      "\u001b[?25h  Stored in directory: /home/franklin/.cache/pip/wheels/50/d6/e7/a8efd5f2427d5eb258070048718fa56ee5ac57fd6f53505f95\n",
      "Successfully built googletrans\n",
      "Installing collected packages: googletrans\n",
      "Successfully installed googletrans-2.4.0\n"
     ]
    }
   ],
   "source": [
    "!pip install nltk\n",
    "!pip install gensim\n",
    "!pip install pyLDAvis\n",
    "!pip install networkx\n",
    "!pip install googletrans"
   ]
  },
  {
   "cell_type": "code",
   "execution_count": 4,
   "metadata": {
    "colab": {
     "base_uri": "https://localhost:8080/",
     "height": 191
    },
    "colab_type": "code",
    "executionInfo": {
     "elapsed": 1776,
     "status": "ok",
     "timestamp": 1560975144515,
     "user": {
      "displayName": "Franklin Matheus",
      "photoUrl": "https://lh3.googleusercontent.com/-Rxb0HD2LMVE/AAAAAAAAAAI/AAAAAAAAADg/5rpsKrNME7M/s64/photo.jpg",
      "userId": "10408548631089952245"
     },
     "user_tz": 180
    },
    "id": "CcJuFC50AGSD",
    "outputId": "afe454d7-b54d-44bb-a74a-b0f4e481993b"
   },
   "outputs": [
    {
     "name": "stdout",
     "output_type": "stream",
     "text": [
      "[nltk_data] Downloading package wordnet to /home/franklin/nltk_data...\n",
      "[nltk_data]   Unzipping corpora/wordnet.zip.\n",
      "[nltk_data] Downloading package stopwords to\n",
      "[nltk_data]     /home/franklin/nltk_data...\n",
      "[nltk_data]   Unzipping corpora/stopwords.zip.\n",
      "[nltk_data] Downloading package averaged_perceptron_tagger to\n",
      "[nltk_data]     /home/franklin/nltk_data...\n",
      "[nltk_data]   Unzipping taggers/averaged_perceptron_tagger.zip.\n",
      "[nltk_data] Downloading package punkt to /home/franklin/nltk_data...\n",
      "[nltk_data]   Package punkt is already up-to-date!\n"
     ]
    },
    {
     "data": {
      "text/plain": [
       "True"
      ]
     },
     "execution_count": 4,
     "metadata": {},
     "output_type": "execute_result"
    }
   ],
   "source": [
    "import nltk\n",
    "\n",
    "nltk.download('wordnet')\n",
    "nltk.download('stopwords')\n",
    "nltk.download('averaged_perceptron_tagger')\n",
    "nltk.download('punkt')\n",
    "#nltk.download('universal_tagset')\n",
    "#nltk.download('treebank')\n",
    "#nltk.download('maxent_ne_chunker')\n",
    "#nltk.download('words')"
   ]
  },
  {
   "cell_type": "code",
   "execution_count": 5,
   "metadata": {
    "colab": {},
    "colab_type": "code",
    "id": "zgLdk-M28gKb"
   },
   "outputs": [],
   "source": [
    "text = '''\n",
    "We propose the N-Learning paradigm, which allows the sharing (teaching and learning)\n",
    "of behaviors in multi-robot systems autonomously and at run time. The proposed paradigm \n",
    "is based on behavioral robotics and uses cooperative learning. In the formal model, \n",
    "robot behaviors are represented in the form of a graph, where complex behaviors can be \n",
    "broken down into simple behaviors that, in turn, can be performed simultaneously. \n",
    "N-Learning allows to change the scope domain of the robot without the need for reprogramming. \n",
    "That is, a robot that does not have compatible behaviors for a given domain can change and \n",
    "learn from the other robots acting in that domain. This feature is useful when there are a \n",
    "large number of robots and several, different missions (in different domains) to be fulfilled. \n",
    "N-Learning can also be used with emerging behaviors that need to be shared with the team. \n",
    "To validate the paradigm, a reference implementation was developed based on the Python \n",
    "language and the Robot Operating System, using the Stage simulator and real robots. \n",
    "Results show that individuals in a group of robots can learn through interaction in \n",
    "the multirobot system. The team comes from a state of less knowledge of robots, \n",
    "individually (ie, robots possessing ability to execute a few behaviors) to a \n",
    "state of more knowledge (robots accomplishing more behaviors, learned online). \n",
    "With this approach, behaviors that are specific to certain environments, \n",
    "already existing, do not need to be preprogrammed in the robots, which \n",
    "can learn them with the other robots of the team. The experiments demonstrate \n",
    "the versatility of N-Learning, validating our approach.\n",
    "'''"
   ]
  },
  {
   "cell_type": "code",
   "execution_count": 6,
   "metadata": {
    "colab": {},
    "colab_type": "code",
    "id": "6O_KjwzUGvhD"
   },
   "outputs": [],
   "source": [
    "import string\n",
    "\n",
    "from googletrans import Translator\n",
    "\n",
    "from nltk import word_tokenize\n",
    "from nltk.corpus import wordnet as wn\n",
    "from nltk.stem.wordnet import WordNetLemmatizer\n",
    "from nltk.corpus import stopwords\n",
    "from nltk import pos_tag\n",
    "\n",
    "def preprocess(text):\n",
    "  result=[]\n",
    "  pos = {\"J\": wn.ADJ, \"N\": wn.NOUN, \"V\": wn.VERB, \"R\": wn.ADV}\n",
    "  \n",
    "  if Translator().detect(text).lang == 'pt':\n",
    "    text = Translator().translate(text_portuguese,src='pt').text\n",
    "  \n",
    "  # We run through the tokenized words joint with their respective pos tag\n",
    "  for token in pos_tag(word_tokenize(text)):\n",
    "    \n",
    "    # For each token, we need to check if it isn't a stopword or a punctuation character\n",
    "    if token[0].lower() not in stopwords.words('english') and token[0] not in string.punctuation:\n",
    "        \n",
    "      tag = pos.get(token[1][0],wn.NOUN)\n",
    "      \n",
    "      # We'll work only with nouns and adjectives\n",
    "      if tag == wn.NOUN or tag == wn.ADJ:\n",
    "        \n",
    "        # We lemmatize the token based on it pos tag\n",
    "        lemma = WordNetLemmatizer().lemmatize(token[0], tag)\n",
    "        if len(lemma) > 1:\n",
    "          # Finally, we add the lemmatized token into the list to be returned\n",
    "          result.append(lemma.lower())\n",
    "      \n",
    "  return result\n",
    "\n",
    "tokens = preprocess(text)"
   ]
  },
  {
   "cell_type": "code",
   "execution_count": 18,
   "metadata": {
    "colab": {
     "base_uri": "https://localhost:8080/",
     "height": 34
    },
    "colab_type": "code",
    "executionInfo": {
     "elapsed": 1030,
     "status": "ok",
     "timestamp": 1560989566871,
     "user": {
      "displayName": "Franklin Matheus",
      "photoUrl": "https://lh3.googleusercontent.com/-Rxb0HD2LMVE/AAAAAAAAAAI/AAAAAAAAADg/5rpsKrNME7M/s64/photo.jpg",
      "userId": "10408548631089952245"
     },
     "user_tz": 180
    },
    "id": "XOV0dO-lXAU3",
    "outputId": "e3f976aa-e0a0-4a03-9d36-9c34f5235c69"
   },
   "outputs": [
    {
     "data": {
      "text/plain": [
       "['robot', 'behavior', 'n-learning', 'domain', 'team']"
      ]
     },
     "execution_count": 18,
     "metadata": {},
     "output_type": "execute_result"
    }
   ],
   "source": [
    "from gensim.corpora import Dictionary\n",
    "from gensim.models import LdaModel\n",
    "\n",
    "def main_topic_terms(tokens,nwords=5):\n",
    "  # First we make a list with the list of tokens\n",
    "  texts = [tokens]\n",
    "  \n",
    "  # We use the class Dictionary to map normalized words to their ids \n",
    "  texts_dictionary = Dictionary(texts)\n",
    "  \n",
    "  # Convert the document into the bag-of-words format\n",
    "  corpus = [texts_dictionary.doc2bow(text) for text in texts]\n",
    "  \n",
    "  # And now, we build the LDA model\n",
    "  lda_model = LdaModel(corpus, num_topics=10, id2word=texts_dictionary, passes=10, alpha='auto')\n",
    "  \n",
    "  # Finally, with the topics on our hands, we take the terms of the main topic and return them\n",
    "  return [texts_dictionary[id2word[0]] for id2word in lda_model.get_topic_terms(lda_model[corpus[0]][0][0],topn=nwords)]\n",
    "  \n",
    "topics = main_topic_terms(tokens)\n",
    "topics"
   ]
  },
  {
   "cell_type": "code",
   "execution_count": 0,
   "metadata": {
    "colab": {},
    "colab_type": "code",
    "id": "a7PswbsYPSZB"
   },
   "outputs": [],
   "source": [
    "import pandas as pd\n",
    "\n",
    "df = pd.read_csv('dataset.csv')\n",
    "df"
   ]
  },
  {
   "cell_type": "code",
   "execution_count": 52,
   "metadata": {
    "colab": {
     "base_uri": "https://localhost:8080/",
     "height": 34
    },
    "colab_type": "code",
    "executionInfo": {
     "elapsed": 8528,
     "status": "ok",
     "timestamp": 1560979446237,
     "user": {
      "displayName": "Franklin Matheus",
      "photoUrl": "https://lh3.googleusercontent.com/-Rxb0HD2LMVE/AAAAAAAAAAI/AAAAAAAAADg/5rpsKrNME7M/s64/photo.jpg",
      "userId": "10408548631089952245"
     },
     "user_tz": 180
    },
    "id": "rLQGjYYXd23v",
    "outputId": "ca323d5b-2cb5-4183-a7b1-71e6f8c79b0b"
   },
   "outputs": [
    {
     "name": "stdout",
     "output_type": "stream",
     "text": [
      "213 nodes, 627 edges\n"
     ]
    }
   ],
   "source": [
    "from itertools import combinations\n",
    "import networkx as nx\n",
    "\n",
    "graph = nx.Graph()\n",
    "\n",
    "[graph.add_edges_from(combination) for combination in [list(combinations(curr,2)) for curr in [main_topic_terms(preprocess(abstract)) for abstract in df.abstract.to_list()]]]\n",
    "\n",
    "print(\"{} nodes, {} edges\".format(len(graph), nx.number_of_edges(graph)))\n",
    "nx.write_graphml(graph, \"graph.graphml\")"
   ]
  },
  {
   "cell_type": "code",
   "execution_count": 0,
   "metadata": {
    "colab": {
     "base_uri": "https://localhost:8080/",
     "height": 1000
    },
    "colab_type": "code",
    "executionInfo": {
     "elapsed": 11309,
     "status": "ok",
     "timestamp": 1560903690943,
     "user": {
      "displayName": "Franklin Matheus",
      "photoUrl": "https://lh3.googleusercontent.com/-Rxb0HD2LMVE/AAAAAAAAAAI/AAAAAAAAADg/5rpsKrNME7M/s64/photo.jpg",
      "userId": "10408548631089952245"
     },
     "user_tz": 180
    },
    "id": "ZfcDr8J5Z6gI",
    "outputId": "95c3bb9b-fcc9-45dd-c48e-53c5c728165b"
   },
   "outputs": [
    {
     "name": "stderr",
     "output_type": "stream",
     "text": [
      "/usr/local/lib/python3.6/dist-packages/pyLDAvis/_prepare.py:257: FutureWarning: Sorting because non-concatenation axis is not aligned. A future version\n",
      "of pandas will change to not sort by default.\n",
      "\n",
      "To accept the future behavior, pass 'sort=False'.\n",
      "\n",
      "To retain the current behavior and silence the warning, pass 'sort=True'.\n",
      "\n",
      "  return pd.concat([default_term_info] + list(topic_dfs))\n"
     ]
    },
    {
     "data": {
      "text/html": [
       "\n",
       "<link rel=\"stylesheet\" type=\"text/css\" href=\"https://cdn.rawgit.com/bmabey/pyLDAvis/files/ldavis.v1.0.0.css\">\n",
       "\n",
       "\n",
       "<div id=\"ldavis_el1221397932886620166297300129\"></div>\n",
       "<script type=\"text/javascript\">\n",
       "\n",
       "var ldavis_el1221397932886620166297300129_data = {\"mdsDat\": {\"x\": [0.21824138169323215, -0.24095845831099866, 0.0016669113134968794, 0.006920280106661796, 0.004341016404813809, 0.0025336508231461204, 0.002330885082079684, 0.0006216255840765282, 0.0022223232376523496, 0.0020803840658394734], \"y\": [3.275766811873625e-06, 3.010456452456328e-06, 8.850385114402023e-05, 0.000306811924355853, -2.676380664531429e-05, -0.0003051618711232538, -0.0003518245334090295, 0.0007526753578431083, -0.00028076980676425116, -0.00018975733866492006], \"topics\": [1, 2, 3, 4, 5, 6, 7, 8, 9, 10], \"cluster\": [1, 1, 1, 1, 1, 1, 1, 1, 1, 1], \"Freq\": [54.0179557800293, 45.35708236694336, 0.07812044024467468, 0.07812044024467468, 0.07812044024467468, 0.07812044024467468, 0.07812044024467468, 0.07812044024467468, 0.07812044024467468, 0.07812044024467468]}, \"tinfo\": {\"Category\": [\"Default\", \"Default\", \"Default\", \"Default\", \"Default\", \"Default\", \"Default\", \"Default\", \"Default\", \"Default\", \"Default\", \"Default\", \"Default\", \"Default\", \"Default\", \"Default\", \"Default\", \"Default\", \"Default\", \"Default\", \"Default\", \"Default\", \"Default\", \"Default\", \"Default\", \"Default\", \"Default\", \"Default\", \"Default\", \"Default\", \"Topic1\", \"Topic1\", \"Topic1\", \"Topic1\", \"Topic1\", \"Topic1\", \"Topic1\", \"Topic1\", \"Topic1\", \"Topic1\", \"Topic1\", \"Topic1\", \"Topic1\", \"Topic1\", \"Topic1\", \"Topic1\", \"Topic1\", \"Topic1\", \"Topic1\", \"Topic1\", \"Topic1\", \"Topic1\", \"Topic1\", \"Topic1\", \"Topic1\", \"Topic1\", \"Topic1\", \"Topic1\", \"Topic1\", \"Topic1\", \"Topic1\", \"Topic1\", \"Topic2\", \"Topic2\", \"Topic2\", \"Topic2\", \"Topic2\", \"Topic2\", \"Topic2\", \"Topic2\", \"Topic2\", \"Topic2\", \"Topic2\", \"Topic2\", \"Topic2\", \"Topic2\", \"Topic2\", \"Topic2\", \"Topic2\", \"Topic2\", \"Topic2\", \"Topic2\", \"Topic2\", \"Topic2\", \"Topic2\", \"Topic2\", \"Topic2\", \"Topic2\", \"Topic2\", \"Topic2\", \"Topic2\", \"Topic2\", \"Topic2\", \"Topic2\", \"Topic3\", \"Topic3\", \"Topic3\", \"Topic3\", \"Topic3\", \"Topic3\", \"Topic3\", \"Topic3\", \"Topic3\", \"Topic3\", \"Topic3\", \"Topic3\", \"Topic3\", \"Topic3\", \"Topic3\", \"Topic3\", \"Topic3\", \"Topic3\", \"Topic3\", \"Topic3\", \"Topic3\", \"Topic3\", \"Topic3\", \"Topic3\", \"Topic3\", \"Topic3\", \"Topic3\", \"Topic3\", \"Topic3\", \"Topic3\", \"Topic3\", \"Topic3\", \"Topic3\", \"Topic3\", \"Topic3\", \"Topic3\", \"Topic3\", \"Topic3\", \"Topic3\", \"Topic3\", \"Topic3\", \"Topic3\", \"Topic3\", \"Topic3\", \"Topic3\", \"Topic3\", \"Topic3\", \"Topic3\", \"Topic3\", \"Topic3\", \"Topic3\", \"Topic3\", \"Topic3\", \"Topic3\", \"Topic3\", \"Topic3\", \"Topic4\", \"Topic4\", \"Topic4\", \"Topic4\", \"Topic4\", \"Topic4\", \"Topic4\", \"Topic4\", \"Topic4\", \"Topic4\", \"Topic4\", \"Topic4\", \"Topic4\", \"Topic4\", \"Topic4\", \"Topic4\", \"Topic4\", \"Topic4\", \"Topic4\", \"Topic4\", \"Topic4\", \"Topic4\", \"Topic4\", \"Topic4\", \"Topic4\", \"Topic4\", \"Topic4\", \"Topic4\", \"Topic4\", \"Topic4\", \"Topic4\", \"Topic4\", \"Topic4\", \"Topic4\", \"Topic4\", \"Topic4\", \"Topic4\", \"Topic4\", \"Topic4\", \"Topic4\", \"Topic4\", \"Topic4\", \"Topic4\", \"Topic4\", \"Topic4\", \"Topic4\", \"Topic4\", \"Topic4\", \"Topic4\", \"Topic4\", \"Topic4\", \"Topic5\", \"Topic5\", \"Topic5\", \"Topic5\", \"Topic5\", \"Topic5\", \"Topic5\", \"Topic5\", \"Topic5\", \"Topic5\", \"Topic5\", \"Topic5\", \"Topic5\", \"Topic5\", \"Topic5\", \"Topic5\", \"Topic5\", \"Topic5\", \"Topic5\", \"Topic5\", \"Topic5\", \"Topic5\", \"Topic5\", \"Topic5\", \"Topic5\", \"Topic5\", \"Topic5\", \"Topic5\", \"Topic5\", \"Topic5\", \"Topic5\", \"Topic5\", \"Topic5\", \"Topic5\", \"Topic5\", \"Topic5\", \"Topic5\", \"Topic5\", \"Topic5\", \"Topic5\", \"Topic5\", \"Topic5\", \"Topic5\", \"Topic5\", \"Topic5\", \"Topic5\", \"Topic5\", \"Topic5\", \"Topic5\", \"Topic5\", \"Topic5\", \"Topic5\", \"Topic5\", \"Topic5\", \"Topic5\", \"Topic5\", \"Topic5\", \"Topic5\", \"Topic5\", \"Topic5\", \"Topic5\", \"Topic5\", \"Topic6\", \"Topic6\", \"Topic6\", \"Topic6\", \"Topic6\", \"Topic6\", \"Topic6\", \"Topic6\", \"Topic6\", \"Topic6\", \"Topic6\", \"Topic6\", \"Topic6\", \"Topic6\", \"Topic6\", \"Topic6\", \"Topic6\", \"Topic6\", \"Topic6\", \"Topic6\", \"Topic6\", \"Topic6\", \"Topic6\", \"Topic6\", \"Topic6\", \"Topic6\", \"Topic6\", \"Topic6\", \"Topic6\", \"Topic6\", \"Topic6\", \"Topic6\", \"Topic6\", \"Topic6\", \"Topic6\", \"Topic6\", \"Topic6\", \"Topic6\", \"Topic6\", \"Topic6\", \"Topic6\", \"Topic6\", \"Topic6\", \"Topic6\", \"Topic6\", \"Topic6\", \"Topic6\", \"Topic6\", \"Topic6\", \"Topic6\", \"Topic6\", \"Topic6\", \"Topic6\", \"Topic6\", \"Topic6\", \"Topic6\", \"Topic6\", \"Topic6\", \"Topic6\", \"Topic6\", \"Topic6\", \"Topic6\", \"Topic6\", \"Topic6\", \"Topic6\", \"Topic6\", \"Topic6\", \"Topic6\", \"Topic6\", \"Topic6\", \"Topic6\", \"Topic6\", \"Topic6\", \"Topic6\", \"Topic6\", \"Topic6\", \"Topic6\", \"Topic6\", \"Topic6\", \"Topic6\", \"Topic6\", \"Topic6\", \"Topic6\", \"Topic6\", \"Topic7\", \"Topic7\", \"Topic7\", \"Topic7\", \"Topic7\", \"Topic7\", \"Topic7\", \"Topic7\", \"Topic7\", \"Topic7\", \"Topic7\", \"Topic7\", \"Topic7\", \"Topic7\", \"Topic7\", \"Topic7\", \"Topic7\", \"Topic7\", \"Topic7\", \"Topic7\", \"Topic7\", \"Topic7\", \"Topic7\", \"Topic7\", \"Topic7\", \"Topic7\", \"Topic7\", \"Topic7\", \"Topic7\", \"Topic7\", \"Topic7\", \"Topic7\", \"Topic7\", \"Topic7\", \"Topic7\", \"Topic7\", \"Topic7\", \"Topic7\", \"Topic7\", \"Topic7\", \"Topic7\", \"Topic7\", \"Topic7\", \"Topic7\", \"Topic7\", \"Topic7\", \"Topic7\", \"Topic7\", \"Topic7\", \"Topic7\", \"Topic7\", \"Topic7\", \"Topic7\", \"Topic7\", \"Topic7\", \"Topic7\", \"Topic7\", \"Topic7\", \"Topic7\", \"Topic7\", \"Topic8\", \"Topic8\", \"Topic8\", \"Topic8\", \"Topic8\", \"Topic8\", \"Topic8\", \"Topic8\", \"Topic8\", \"Topic8\", \"Topic8\", \"Topic8\", \"Topic8\", \"Topic8\", \"Topic8\", \"Topic8\", \"Topic8\", \"Topic8\", \"Topic8\", \"Topic8\", \"Topic8\", \"Topic8\", \"Topic8\", \"Topic8\", \"Topic8\", \"Topic8\", \"Topic8\", \"Topic8\", \"Topic8\", \"Topic8\", \"Topic8\", \"Topic8\", \"Topic8\", \"Topic8\", \"Topic8\", \"Topic8\", \"Topic8\", \"Topic8\", \"Topic8\", \"Topic8\", \"Topic8\", \"Topic8\", \"Topic8\", \"Topic8\", \"Topic8\", \"Topic8\", \"Topic8\", \"Topic8\", \"Topic8\", \"Topic8\", \"Topic8\", \"Topic8\", \"Topic8\", \"Topic8\", \"Topic9\", \"Topic9\", \"Topic9\", \"Topic9\", \"Topic9\", \"Topic9\", \"Topic9\", \"Topic9\", \"Topic9\", \"Topic9\", \"Topic9\", \"Topic9\", \"Topic9\", \"Topic9\", \"Topic9\", \"Topic9\", \"Topic9\", \"Topic9\", \"Topic9\", \"Topic9\", \"Topic9\", \"Topic9\", \"Topic9\", \"Topic9\", \"Topic9\", \"Topic9\", \"Topic9\", \"Topic9\", \"Topic9\", \"Topic9\", \"Topic9\", \"Topic9\", \"Topic9\", \"Topic9\", \"Topic9\", \"Topic9\", \"Topic9\", \"Topic9\", \"Topic9\", \"Topic9\", \"Topic9\", \"Topic9\", \"Topic9\", \"Topic9\", \"Topic9\", \"Topic9\", \"Topic9\", \"Topic9\", \"Topic9\", \"Topic9\", \"Topic9\", \"Topic9\", \"Topic9\", \"Topic9\", \"Topic9\", \"Topic9\", \"Topic9\", \"Topic9\", \"Topic9\", \"Topic9\", \"Topic10\", \"Topic10\", \"Topic10\", \"Topic10\", \"Topic10\", \"Topic10\", \"Topic10\", \"Topic10\", \"Topic10\", \"Topic10\", \"Topic10\", \"Topic10\", \"Topic10\", \"Topic10\", \"Topic10\", \"Topic10\", \"Topic10\", \"Topic10\", \"Topic10\", \"Topic10\", \"Topic10\", \"Topic10\", \"Topic10\", \"Topic10\", \"Topic10\", \"Topic10\", \"Topic10\", \"Topic10\", \"Topic10\", \"Topic10\", \"Topic10\", \"Topic10\", \"Topic10\", \"Topic10\", \"Topic10\", \"Topic10\", \"Topic10\", \"Topic10\", \"Topic10\", \"Topic10\", \"Topic10\", \"Topic10\", \"Topic10\", \"Topic10\", \"Topic10\", \"Topic10\", \"Topic10\", \"Topic10\", \"Topic10\", \"Topic10\", \"Topic10\", \"Topic10\", \"Topic10\", \"Topic10\", \"Topic10\", \"Topic10\"], \"Freq\": [10.0, 8.0, 10.0, 5.0, 4.0, 4.0, 3.0, 3.0, 3.0, 3.0, 3.0, 3.0, 3.0, 2.0, 2.0, 2.0, 2.0, 2.0, 2.0, 1.0, 1.0, 1.0, 1.0, 1.0, 1.0, 1.0, 1.0, 1.0, 1.0, 1.0, 9.928933143615723, 8.146387100219727, 4.564061641693115, 3.667076349258423, 3.666447401046753, 2.7738139629364014, 2.7732739448547363, 2.7723066806793213, 1.8806157112121582, 1.8796510696411133, 1.87929368019104, 1.8790321350097656, 1.8789901733398438, 1.8789772987365723, 1.8785969018936157, 1.8779414892196655, 1.8777239322662354, 0.9853935837745667, 0.9851565361022949, 0.9850953221321106, 0.9850227236747742, 0.9850068092346191, 0.9849218130111694, 0.984868049621582, 0.9848536849021912, 0.9848467707633972, 0.9848438501358032, 0.9848275780677795, 0.9847986102104187, 0.9847788214683533, 2.7755160331726074, 0.9849128723144531, 5.352680683135986, 4.473818778991699, 3.5976479053497314, 3.597748279571533, 3.5959808826446533, 2.720087766647339, 2.720299482345581, 2.7189762592315674, 1.8432432413101196, 1.8426672220230103, 1.8426376581192017, 1.8426498174667358, 1.8426460027694702, 1.842321515083313, 1.8423681259155273, 1.8422232866287231, 1.8423646688461304, 1.8419245481491089, 1.842024326324463, 1.841615915298462, 1.8418926000595093, 1.8418275117874146, 1.8411738872528076, 9.739075660705566, 0.9655702114105225, 0.9655638933181763, 0.9654781818389893, 0.9654175043106079, 0.9654059410095215, 0.965345025062561, 0.9653596878051758, 2.720411777496338, 0.0012999167665839195, 0.0012999562313780189, 0.0013001832412555814, 0.0012995894066989422, 0.0012994828866794705, 0.001299436204135418, 0.001299123978242278, 0.0012990091927349567, 0.0012985290959477425, 0.0012988101225346327, 0.0012985521461814642, 0.0012983944034203887, 0.0012984079075977206, 0.0012980687897652388, 0.0012984437635168433, 0.0012978300219401717, 0.0012978756567463279, 0.0012978242011740804, 0.001297902432270348, 0.0012976783327758312, 0.001297962968237698, 0.0012979741441085935, 0.0012976705329492688, 0.0012979343300685287, 0.0012978942831978202, 0.0012975666904821992, 0.001297243288718164, 0.0012975960271432996, 0.0012973301345482469, 0.0012975679710507393, 0.0012972548138350248, 0.0013454859144985676, 0.0013094971654936671, 0.001308546750806272, 0.0013078069314360619, 0.001305915997363627, 0.001316713634878397, 0.0013134584296494722, 0.0013111850712448359, 0.0013109726132825017, 0.0013106061378493905, 0.001309819403104484, 0.0013082358054816723, 0.0013057295000180602, 0.0013050171546638012, 0.0013046098174527287, 0.0013035353040322661, 0.0013034972362220287, 0.0013034779112786055, 0.0013032607967033982, 0.001302869408391416, 0.0013025108492001891, 0.001301959971897304, 0.0013011295814067125, 0.001300909905694425, 0.00129992316942662, 0.0013141405070200562, 0.0013125616824254394, 0.0013118156930431724, 0.0013117351336404681, 0.0013114366447553039, 0.0013084616512060165, 0.001307730213738978, 0.0013073504669591784, 0.001307135447859764, 0.0013066011015325785, 0.0013067207764834166, 0.0013067468535155058, 0.0013061503414064646, 0.0013061427744105458, 0.0013053917791694403, 0.0013055882882326841, 0.001304873381741345, 0.0013030223781242967, 0.001303301309235394, 0.0013033135328441858, 0.0013027605600655079, 0.0013032120186835527, 0.0013022954808548093, 0.0013024210929870605, 0.0013020547339692712, 0.0013018663739785552, 0.0013020058395341039, 0.001301680924370885, 0.0013021075865253806, 0.001301415846683085, 0.00130165193695575, 0.0017199390567839146, 0.0016031063860282302, 0.0014605007600039244, 0.0014362063957378268, 0.0013611591421067715, 0.0014239391312003136, 0.001397040905430913, 0.0013605523854494095, 0.0013884351355955005, 0.0013504980597645044, 0.0013498057378455997, 0.0013471981510519981, 0.0013437459710985422, 0.0013622543774545193, 0.001339316600933671, 0.0013380188029259443, 0.0013622292317450047, 0.0013297715922817588, 0.0013120967196300626, 0.00131044234149158, 0.00130469910800457, 0.0013046631356701255, 0.0013044291408732533, 0.0013037160970270634, 0.0013038857141509652, 0.0013035109732300043, 0.0013035782612860203, 0.0013036184245720506, 0.001302699907682836, 0.0013034300645813346, 0.0013027765089645982, 0.00130241340957582, 0.0013020910555496812, 0.0013020668411627412, 0.0012807230232283473, 0.0012807230232283473, 0.0012807230232283473, 0.0012807230232283473, 0.0012807230232283473, 0.0012807230232283473, 0.0012807230232283473, 0.0012807230232283473, 0.0012807230232283473, 0.0013020200422033668, 0.0012807230232283473, 0.0012807230232283473, 0.001301380223594606, 0.001302150427363813, 0.0012807230232283473, 0.0012807230232283473, 0.0013012189883738756, 0.0013014539144933224, 0.00130114471539855, 0.0013010422699153423, 0.001300492906011641, 0.0013008242240175605, 0.0013011792907491326, 0.0013004299253225327, 0.0013001326005905867, 0.0013003830099478364, 0.001299103139899671, 0.0012997135054320097, 0.0013002194464206696, 0.001299768453463912, 0.001488733571022749, 0.0013678716495633125, 0.0013663764111697674, 0.0013987430138513446, 0.0013517173938453197, 0.0013253024080768228, 0.001359738758765161, 0.0013391295215114951, 0.0013326185289770365, 0.0013188166776672006, 0.0013297712430357933, 0.0013147153658792377, 0.0013118056813254952, 0.0013114670291543007, 0.0013106709811836481, 0.001307665603235364, 0.0013057661708444357, 0.0013046532403677702, 0.001295212423428893, 0.0012952147517353296, 0.001295210444368422, 0.001295201713219285, 0.0012952190591022372, 0.001295201713219285, 0.0012952055549249053, 0.0012952076504006982, 0.0012951964745298028, 0.001295201014727354, 0.0012951925164088607, 0.0012952208053320646, 0.0012951944954693317, 0.0012951953103765845, 0.001295205787755549, 0.0012952227843925357, 0.001295238733291626, 0.0012952106771990657, 0.0012951779644936323, 0.0012952160323038697, 0.001295203110203147, 0.0012951820390298963, 0.0012952203396707773, 0.0012952116085216403, 0.001295182853937149, 0.001295193680562079, 0.001295204390771687, 0.0012951877433806658, 0.0012952034594491124, 0.0012951837852597237, 0.0012951967073604465, 0.0012977650621905923, 0.0012978503946214914, 0.0012977891601622105, 0.0012976787984371185, 0.0012975845020264387, 0.0012976425932720304, 0.0012975373538210988, 0.0012975031277164817, 0.0012975253630429506, 0.001297530485317111, 0.0012975340941920877, 0.0012975160498172045, 0.0012975384015589952, 0.001297416165471077, 0.001297333394177258, 0.0012974137207493186, 0.0012973095290362835, 0.0012973063858225942, 0.0012972512049600482, 0.0012972112745046616, 0.001297231181524694, 0.0012972099939361215, 0.001297206268645823, 0.001297204988077283, 0.0012972000986337662, 0.0012971787946298718, 0.0012972133699804544, 0.0012971614487469196, 0.0012971090618520975, 0.0012970579555258155, 0.0012971056858077645, 0.0012971126707270741, 0.0013163902331143618, 0.0013077132171019912, 0.0013037363532930613, 0.0013023237697780132, 0.0013021401828154922, 0.0013021023478358984, 0.0013016705634072423, 0.0013007682282477617, 0.0013003816129639745, 0.0013003592612221837, 0.0013003480853512883, 0.0013002209598198533, 0.001300060423091054, 0.0012998045422136784, 0.0012991351541131735, 0.0012986991787329316, 0.001297726179473102, 0.0012977003352716565, 0.001297677168622613, 0.0012975523713976145, 0.0012975309509783983, 0.0012969012605026364, 0.0012969012605026364, 0.0012969012605026364, 0.0012969012605026364, 0.0012969012605026364, 0.0012969013769179583, 0.0012969012605026364, 0.0012969012605026364, 0.0012969012605026364, 0.0012969012605026364, 0.0012969012605026364, 0.0012969012605026364, 0.0012969012605026364, 0.0012969012605026364, 0.0012969012605026364, 0.0012969012605026364, 0.0012969012605026364, 0.0012969012605026364, 0.0012969012605026364, 0.0012969012605026364, 0.0012969012605026364, 0.0012969012605026364, 0.0012969012605026364, 0.0012969012605026364, 0.0012969012605026364, 0.0012969012605026364, 0.0012969012605026364, 0.0012969012605026364, 0.0012969012605026364, 0.0012969012605026364, 0.0012969012605026364, 0.0012969012605026364, 0.0012969012605026364, 0.0012969012605026364, 0.0012969012605026364, 0.0012969012605026364, 0.0012969013769179583, 0.0012969012605026364, 0.0012969012605026364, 0.0012969012605026364, 0.0012969012605026364, 0.0012969012605026364, 0.0012969012605026364, 0.0012969012605026364, 0.0012969012605026364, 0.0012969012605026364, 0.00129690149333328, 0.0012969012605026364, 0.0012969012605026364, 0.0012969012605026364, 0.0012969013769179583, 0.0012969012605026364, 0.0012969012605026364, 0.0012969012605026364, 0.0012969012605026364, 0.0012969012605026364, 0.00129690149333328, 0.0012969012605026364, 0.0012969013769179583, 0.0012969012605026364, 0.0013063291553407907, 0.0013052226277068257, 0.0013042142381891608, 0.0013038795441389084, 0.00130377896130085, 0.0013037881581112742, 0.0013036825694143772, 0.001301550422795117, 0.0013015386648476124, 0.0013013132847845554, 0.0013014802243560553, 0.001301301410421729, 0.001300825155340135, 0.0013005416840314865, 0.0013006665976718068, 0.0013003780040889978, 0.0013003781205043197, 0.0013001522747799754, 0.0013000325998291373, 0.001299820258282125, 0.0012998597230762243, 0.0012997491285204887, 0.001299295574426651, 0.0012992791598662734, 0.001298757502809167, 0.001298779621720314, 0.0012979363091289997, 0.0012976113939657807, 0.0012973063858225942, 0.0012972911354154348, 0.0014110992196947336, 0.0013542438391596079, 0.0013611909234896302, 0.0013243753928691149, 0.001350628910586238, 0.0013216926017776132, 0.001329794991761446, 0.001319326227530837, 0.001316739129833877, 0.0013158085057511926, 0.001328501501120627, 0.0013233645586296916, 0.0013266900787129998, 0.0013144087279215455, 0.001313961809501052, 0.0013135743793100119, 0.0013210127362981439, 0.0013119560899212956, 0.0013112211599946022, 0.0013147714780643582, 0.0013098411727696657, 0.0013089380227029324, 0.0013086434919387102, 0.0013076093746349216, 0.0012973974226042628, 0.0012973101111128926, 0.00129728636238724, 0.0012973828706890345, 0.0012974025448784232, 0.0012972707627341151, 0.001297292299568653, 0.001297334092669189, 0.0012968992814421654, 0.0012972246622666717, 0.0012973933480679989, 0.0012974756537005305, 0.001297110808081925, 0.0012971276883035898, 0.0012972020776942372, 0.0012971200048923492, 0.0012971344403922558, 0.0012970682000741363, 0.001297185430303216, 0.0012974092969670892, 0.0012971579562872648, 0.0012971044052392244, 0.001296954695135355, 0.0012970761163160205, 0.0012970763491466641, 0.0012971386313438416, 0.0012969227973371744, 0.0012969522504135966, 0.0012971312971785665, 0.0012971557443961501, 0.001297083217650652, 0.001297001726925373, 0.0012969817034900188, 0.0012969645904377103, 0.0012969720410183072, 0.0013041994534432888, 0.0013013607822358608, 0.001300495583564043, 0.0012997133890166879, 0.0012993740383535624, 0.0012991947587579489, 0.0012988001108169556, 0.0012986405054107308, 0.0012983748456463218, 0.0012981047620996833, 0.0012980306055396795, 0.0012979886960238218, 0.0012979772873222828, 0.0012979708844795823, 0.001297950861044228, 0.0012979228049516678, 0.0012977798469364643, 0.0012977785663679242, 0.0012977662263438106, 0.0012977378210052848, 0.0012977056903764606, 0.0012976961443200707, 0.0012976195430383086, 0.0012974555138498545, 0.0012974273413419724, 0.0012981173349544406, 0.0012979188468307257, 0.001298306044191122, 0.0012980063911527395, 0.0012982962653040886, 0.0012977932346984744, 0.0012975051067769527, 0.0012980180326849222, 0.0012976416619494557, 0.001297751790843904, 0.0012975839199498296, 0.0012975073186680675, 0.0012974459677934647, 0.0012975136050954461, 0.0012974615674465895, 0.0012974849669262767, 0.0012973613338544965, 0.0012971009127795696, 0.0012974559795111418, 0.0012972900876775384, 0.00129714235663414, 0.0012972302502021194, 0.0012973727425560355, 0.001297066337428987, 0.001297283568419516, 0.0012970897369086742, 0.0012969893869012594, 0.0012972517870366573, 0.0012972529511898756, 0.0012971514370292425, 0.001297042123042047, 0.0013126168632879853, 0.0013060676865279675, 0.001303360564634204, 0.0013033042196184397, 0.0013031187700107694, 0.0013028604444116354, 0.0013022079365327954, 0.0013012713752686977, 0.0013003271305933595, 0.0013000724138692021, 0.001300034113228321, 0.0013000080361962318, 0.001299566589295864, 0.001299442839808762, 0.001299434108659625, 0.0012993303826078773, 0.0012991548283025622, 0.0012991161784157157, 0.0012991034891456366, 0.001299075549468398, 0.0012990207178518176, 0.0012990074465051293, 0.0012988632079213858, 0.001298591261729598, 0.0012985479552298784], \"Term\": [\"robot\", \"behavior\", \"graph\", \"call\", \"learn\", \"edge\", \"N-Learning\", \"domain\", \"person\", \"object\", \"vertex\", \"use\", \"also\", \"team\", \"need\", \"paradigm\", \"shake\", \"hand\", \"undirected\", \"change\", \"state\", \"different\", \"validate\", \"knowledge\", \"approach\", \"system\", \"propose\", \"base\", \"mathematics\", \"direct\", \"robot\", \"behavior\", \"learn\", \"domain\", \"N-Learning\", \"paradigm\", \"need\", \"team\", \"base\", \"propose\", \"system\", \"approach\", \"knowledge\", \"validate\", \"different\", \"state\", \"change\", \"Results\", \"reference\", \"perform\", \"certain\", \"simple\", \"cooperative\", \"robotics\", \"break\", \"reprogramming\", \"online\", \"group\", \"time\", \"possess\", \"use\", \"graph\", \"call\", \"edge\", \"object\", \"vertex\", \"person\", \"hand\", \"undirected\", \"shake\", \"theory\", \"line\", \"''\", \"Graphs\", \"people\", \"related\", \"study\", \"set\", \"correspond\", \"sense\", \"pair\", \"direct\", \"``\", \"type\", \"mathematics\", \"graph\", \"party\", \"link\", \"two\", \"necessarily\", \"basic\", \"specifically\", \"subject\", \"also\", \"contrast\", \"abstraction\", \"latter\", \"first\", \"reciprocate\", \"node\", \"dot\", \"depict\", \"circle\", \"necessarily\", \"1878\", \"example\", \"James\", \"structure\", \"admiring\", \"discrete\", \"former\", \"join\", \"word\", \"Sylvester\", \"one\", \"Joseph\", \"mathematical\", \"subject\", \"may\", \"amount\", \"diagrammatic\", \"specifically\", \"admiration\", \"basic\", \"Typically\", \"graph\", \"``\", \"mathematics\", \"type\", \"correspond\", \"call\", \"edge\", \"vertex\", \"person\", \"object\", \"shake\", \"undirected\", \"hand\", \"pair\", \"Graphs\", \"related\", \"direct\", \"also\", \"sense\", \"people\", \"line\", \"study\", \"''\", \"set\", \"theory\", \"share\", \"allows\", \"versatility\", \"language\", \"individually\", \"several\", \"without\", \"run\", \"give\", \"develop\", \"autonomously\", \"environment\", \"formal\", \"individual\", \"ie\", \"Operating\", \"scope\", \"real\", \"act\", \"experiment\", \"less\", \"multi-robot\", \"useful\", \"Robot\", \"System\", \"large\", \"behavioral\", \"robots\", \"Stage\", \"simultaneously\", \"simulator\", \"robot\", \"behavior\", \"learn\", \"N-Learning\", \"different\", \"domain\", \"team\", \"state\", \"need\", \"change\", \"approach\", \"knowledge\", \"system\", \"paradigm\", \"validate\", \"propose\", \"use\", \"base\", \"also\", \"represent\", \"real\", \"interaction\", \"learning\", \"ie\", \"turn\", \"accomplish\", \"model\", \"sharing\", \"System\", \"come\", \"fulfil\", \"simultaneously\", \"useful\", \"less\", \"contrast\", \"first\", \"abstraction\", \"dot\", \"structure\", \"reciprocate\", \"node\", \"latter\", \"directed\", \"Python\", \"depict\", \"diagrammatic\", \"robots\", \"online\", \"Sylvester\", \"discrete\", \"teach\", \"implementation\", \"already\", \"emerge\", \"run\", \"large\", \"number\", \"act\", \"experiment\", \"mission\", \"versatility\", \"multirobot\", \"simple\", \"exist\", \"robot\", \"domain\", \"N-Learning\", \"behavior\", \"paradigm\", \"change\", \"learn\", \"team\", \"need\", \"validate\", \"use\", \"state\", \"knowledge\", \"system\", \"propose\", \"approach\", \"base\", \"different\", \"contrast\", \"first\", \"abstraction\", \"dot\", \"reciprocate\", \"structure\", \"node\", \"latter\", \"directed\", \"depict\", \"diagrammatic\", \"Sylvester\", \"discrete\", \"circle\", \"example\", \"mathematical\", \"James\", \"join\", \"amount\", \"point\", \"former\", \"Typically\", \"admiring\", \"word\", \"admiration\", \"1878\", \"curve\", \"one\", \"Joseph\", \"specifically\", \"subject\", \"useful\", \"compatible\", \"multirobot\", \"teach\", \"language\", \"show\", \"real\", \"run\", \"emerge\", \"interaction\", \"Python\", \"implementation\", \"demonstrate\", \"robots\", \"versatility\", \"number\", \"allows\", \"accomplish\", \"System\", \"several\", \"already\", \"formal\", \"simultaneously\", \"learning\", \"autonomously\", \"Robot\", \"Stage\", \"turn\", \"large\", \"without\", \"come\", \"robotics\", \"robot\", \"behavior\", \"domain\", \"need\", \"paradigm\", \"learn\", \"N-Learning\", \"team\", \"use\", \"validate\", \"change\", \"propose\", \"approach\", \"base\", \"knowledge\", \"system\", \"represent\", \"different\", \"graph\", \"state\", \"form\", \"contrast\", \"first\", \"abstraction\", \"dot\", \"structure\", \"reciprocate\", \"node\", \"latter\", \"directed\", \"depict\", \"diagrammatic\", \"Sylvester\", \"discrete\", \"circle\", \"example\", \"mathematical\", \"amount\", \"James\", \"join\", \"point\", \"Typically\", \"former\", \"admiration\", \"admiring\", \"word\", \"1878\", \"curve\", \"one\", \"specifically\", \"Joseph\", \"subject\", \"knowledge\", \"model\", \"mission\", \"less\", \"learning\", \"learn\", \"large\", \"language\", \"interaction\", \"share\", \"individually\", \"individual\", \"implementation\", \"ie\", \"group\", \"graph\", \"give\", \"multi-robot\", \"multirobot\", \"need\", \"number\", \"scope\", \"run\", \"robots\", \"robotics\", \"robot\", \"reprogramming\", \"represent\", \"reference\", \"contrast\", \"first\", \"abstraction\", \"dot\", \"structure\", \"directed\", \"diagrammatic\", \"depict\", \"discrete\", \"reciprocate\", \"Sylvester\", \"node\", \"amount\", \"latter\", \"Typically\", \"circle\", \"example\", \"admiration\", \"point\", \"join\", \"former\", \"mathematical\", \"word\", \"curve\", \"James\", \"admiring\", \"1878\", \"specifically\", \"one\", \"subject\", \"graph\", \"person\", \"edge\", \"mathematics\", \"call\", \"direct\", \"shake\", \"sense\", \"set\", \"pair\", \"object\", \"hand\", \"vertex\", \"type\", \"study\", \"related\", \"also\", \"``\", \"''\", \"undirected\", \"line\", \"people\", \"correspond\", \"Graphs\", \"contrast\", \"abstraction\", \"dot\", \"reciprocate\", \"node\", \"structure\", \"directed\", \"diagrammatic\", \"first\", \"latter\", \"join\", \"1878\", \"depict\", \"Sylvester\", \"amount\", \"example\", \"mathematical\", \"circle\", \"former\", \"may\", \"Typically\", \"James\", \"discrete\", \"admiration\", \"admiring\", \"one\", \"point\", \"word\", \"subject\", \"necessarily\", \"two\", \"basic\", \"Joseph\", \"curve\", \"party\", \"graph\", \"call\", \"edge\", \"shake\", \"object\", \"person\", \"vertex\", \"undirected\", \"direct\", \"correspond\", \"mathematics\", \"also\", \"type\", \"pair\", \"``\", \"Graphs\", \"set\", \"hand\", \"people\", \"''\", \"line\", \"study\", \"theory\", \"related\", \"sense\", \"contrast\", \"first\", \"mathematical\", \"reciprocate\", \"James\", \"dot\", \"abstraction\", \"point\", \"node\", \"Sylvester\", \"latter\", \"directed\", \"depict\", \"discrete\", \"circle\", \"join\", \"example\", \"structure\", \"1878\", \"word\", \"amount\", \"admiring\", \"Joseph\", \"Typically\", \"specifically\", \"admiration\", \"former\", \"basic\", \"necessarily\", \"one\", \"curve\", \"graph\", \"call\", \"vertex\", \"object\", \"edge\", \"shake\", \"person\", \"undirected\", \"direct\", \"type\", \"correspond\", \"``\", \"set\", \"hand\", \"sense\", \"also\", \"study\", \"people\", \"related\", \"mathematics\", \"theory\", \"pair\", \"''\", \"Graphs\", \"line\"], \"Total\": [10.0, 8.0, 10.0, 5.0, 4.0, 4.0, 3.0, 3.0, 3.0, 3.0, 3.0, 3.0, 3.0, 2.0, 2.0, 2.0, 2.0, 2.0, 2.0, 1.0, 1.0, 1.0, 1.0, 1.0, 1.0, 1.0, 1.0, 1.0, 1.0, 1.0, 10.027792930603027, 8.24503231048584, 4.662519931793213, 3.7655067443847656, 3.7648868560791016, 2.8721654415130615, 2.8716323375701904, 2.8706789016723633, 1.9788860082626343, 1.9779348373413086, 1.977582335472107, 1.9773244857788086, 1.9772831201553345, 1.9772706031799316, 1.9768952131271362, 1.9762492179870605, 1.9760348796844482, 1.0836117267608643, 1.0833779573440552, 1.0833176374435425, 1.0832462310791016, 1.0832303762435913, 1.083146572113037, 1.0830936431884766, 1.0830795764923096, 1.0830726623535156, 1.0830698013305664, 1.083053708076477, 1.0830250978469849, 1.083005666732788, 3.751314640045166, 10.734554290771484, 5.453096866607666, 4.5742058753967285, 3.6980085372924805, 3.6981313228607178, 3.6963350772857666, 2.820394277572632, 2.820629835128784, 2.819329023361206, 1.943508267402649, 1.9429361820220947, 1.9429116249084473, 1.9429267644882202, 1.9429292678833008, 1.9425954818725586, 1.942652702331543, 1.9425050020217896, 1.9426603317260742, 1.942209005355835, 1.9423191547393799, 1.9419063329696655, 1.942209243774414, 1.942147970199585, 1.9414969682693481, 10.734554290771484, 1.0657958984375, 1.0657936334609985, 1.0657117366790771, 1.0656474828720093, 1.0656391382217407, 1.0655755996704102, 1.0655920505523682, 3.7147679328918457, 1.0647432804107666, 1.0649298429489136, 1.0651623010635376, 1.0648860931396484, 1.065117359161377, 1.065145492553711, 1.0649911165237427, 1.065190076828003, 1.0653035640716553, 1.0656474828720093, 1.0654395818710327, 1.065314769744873, 1.065359354019165, 1.0651156902313232, 1.0654296875, 1.0652762651443481, 1.0654051303863525, 1.065363883972168, 1.0654360055923462, 1.0652612447738647, 1.0655642747879028, 1.0655781030654907, 1.0653403997421265, 1.0655920505523682, 1.0655900239944458, 1.0653513669967651, 1.06520676612854, 1.0655755996704102, 1.0654239654541016, 1.0656391382217407, 1.0653904676437378, 10.734554290771484, 1.942209243774414, 1.9414969682693481, 1.942147970199585, 1.9426603317260742, 5.453096866607666, 4.5742058753967285, 3.6981313228607178, 3.6963350772857666, 3.6980085372924805, 2.819329023361206, 2.820629835128784, 2.820394277572632, 1.9423191547393799, 1.9429267644882202, 1.9425954818725586, 1.9419063329696655, 3.7147679328918457, 1.942209005355835, 1.9429292678833008, 1.9429361820220947, 1.942652702331543, 1.9429116249084473, 1.9425050020217896, 1.943508267402649, 1.0821770429611206, 1.0820287466049194, 1.0818713903427124, 1.0820868015289307, 1.082031011581421, 1.082138180732727, 1.08217453956604, 1.0820727348327637, 1.082424521446228, 1.0823094844818115, 1.0824265480041504, 1.0824971199035645, 1.0823590755462646, 1.0823678970336914, 1.0820338726043701, 1.0823758840560913, 1.0825005769729614, 1.0820873975753784, 1.0824049711227417, 1.082452416419983, 1.082320213317871, 1.0829014778137207, 1.0823019742965698, 1.0825262069702148, 1.0823124647140503, 1.0824652910232544, 1.0826820135116577, 1.0824177265167236, 1.0828558206558228, 1.0823818445205688, 1.0826748609542847, 10.027792930603027, 8.24503231048584, 4.662519931793213, 3.7648868560791016, 1.9768952131271362, 3.7655067443847656, 2.8706789016723633, 1.9762492179870605, 2.8716323375701904, 1.9760348796844482, 1.9773244857788086, 1.9772831201553345, 1.977582335472107, 2.8721654415130615, 1.9772706031799316, 1.9779348373413086, 3.751314640045166, 1.9788860082626343, 3.7147679328918457, 1.9594240188598633, 1.0820873975753784, 1.0826468467712402, 1.0824549198150635, 1.0820338726043701, 1.0824259519577026, 1.082544207572937, 1.0826656818389893, 1.0827523469924927, 1.0823124647140503, 1.0829335451126099, 1.0826609134674072, 1.0823818445205688, 1.0823019742965698, 1.082320213317871, 1.0647432804107666, 1.0648860931396484, 1.0649298429489136, 1.0649911165237427, 1.0651156902313232, 1.065117359161377, 1.065145492553711, 1.0651623010635376, 1.065171718597412, 1.0828967094421387, 1.065190076828003, 1.06520676612854, 1.0824177265167236, 1.0830698013305664, 1.0652612447738647, 1.0652762651443481, 1.0825066566467285, 1.0827913284301758, 1.0825475454330444, 1.0825135707855225, 1.0820727348327637, 1.0824652910232544, 1.0827752351760864, 1.0824049711227417, 1.082452416419983, 1.0829050540924072, 1.0818713903427124, 1.0826205015182495, 1.0832303762435913, 1.082892894744873, 10.027792930603027, 3.7655067443847656, 3.7648868560791016, 8.24503231048584, 2.8721654415130615, 1.9760348796844482, 4.662519931793213, 2.8706789016723633, 2.8716323375701904, 1.9772706031799316, 3.751314640045166, 1.9762492179870605, 1.9772831201553345, 1.977582335472107, 1.9779348373413086, 1.9773244857788086, 1.9788860082626343, 1.9768952131271362, 1.0647432804107666, 1.0648860931396484, 1.0649298429489136, 1.0649911165237427, 1.065117359161377, 1.0651156902313232, 1.065145492553711, 1.0651623010635376, 1.065171718597412, 1.065190076828003, 1.06520676612854, 1.0652612447738647, 1.0652762651443481, 1.0653035640716553, 1.065314769744873, 1.0653403997421265, 1.065359354019165, 1.065363883972168, 1.0653513669967651, 1.0653877258300781, 1.0654051303863525, 1.0653904676437378, 1.0654296875, 1.0654360055923462, 1.0654239654541016, 1.0654395818710327, 1.0655262470245361, 1.0655642747879028, 1.0655781030654907, 1.0655755996704102, 1.0655920505523682, 1.0823019742965698, 1.0830048322677612, 1.0826205015182495, 1.0825066566467285, 1.0820868015289307, 1.0828779935836792, 1.0820873975753784, 1.0820727348327637, 1.0825135707855225, 1.0826468467712402, 1.0828967094421387, 1.0827913284301758, 1.0829848051071167, 1.0824177265167236, 1.0818713903427124, 1.0827752351760864, 1.0820287466049194, 1.082544207572937, 1.0823124647140503, 1.082138180732727, 1.0825475454330444, 1.0823590755462646, 1.0823818445205688, 1.0824549198150635, 1.0824265480041504, 1.0825262069702148, 1.0828558206558228, 1.0824259519577026, 1.0824652910232544, 1.08217453956604, 1.0829335451126099, 1.0830936431884766, 10.027792930603027, 8.24503231048584, 3.7655067443847656, 2.8716323375701904, 2.8721654415130615, 4.662519931793213, 3.7648868560791016, 2.8706789016723633, 3.751314640045166, 1.9772706031799316, 1.9760348796844482, 1.9779348373413086, 1.9773244857788086, 1.9788860082626343, 1.9772831201553345, 1.977582335472107, 1.9594240188598633, 1.9768952131271362, 10.734554290771484, 1.9762492179870605, 1.9599052667617798, 1.0647432804107666, 1.0648860931396484, 1.0649298429489136, 1.0649911165237427, 1.0651156902313232, 1.065117359161377, 1.065145492553711, 1.0651623010635376, 1.065171718597412, 1.065190076828003, 1.06520676612854, 1.0652612447738647, 1.0652762651443481, 1.0653035640716553, 1.065314769744873, 1.0653403997421265, 1.0653513669967651, 1.065359354019165, 1.065363883972168, 1.0653877258300781, 1.0653904676437378, 1.0654051303863525, 1.0654239654541016, 1.0654296875, 1.0654360055923462, 1.0654395818710327, 1.0655262470245361, 1.0655642747879028, 1.0655755996704102, 1.0655781030654907, 1.0655920505523682, 1.9772831201553345, 1.0826656818389893, 1.0829050540924072, 1.082320213317871, 1.0824549198150635, 4.662519931793213, 1.0824652910232544, 1.0820868015289307, 1.0826468467712402, 1.0821770429611206, 1.082031011581421, 1.0823678970336914, 1.0827913284301758, 1.0820338726043701, 1.083053708076477, 10.734554290771484, 1.082424521446228, 1.0829014778137207, 1.0826205015182495, 2.8716323375701904, 1.0827752351760864, 1.0825005769729614, 1.0820727348327637, 1.0824177265167236, 1.0830936431884766, 10.027792930603027, 1.0830726623535156, 1.9594240188598633, 1.0833779573440552, 1.0647432804107666, 1.0648860931396484, 1.0649298429489136, 1.0649911165237427, 1.0651156902313232, 1.065171718597412, 1.06520676612854, 1.065190076828003, 1.0652762651443481, 1.065117359161377, 1.0652612447738647, 1.065145492553711, 1.0653513669967651, 1.0651623010635376, 1.0653904676437378, 1.0653035640716553, 1.065314769744873, 1.0654239654541016, 1.0653877258300781, 1.065363883972168, 1.0654051303863525, 1.0653403997421265, 1.0654360055923462, 1.0655262470245361, 1.065359354019165, 1.0654296875, 1.0654395818710327, 1.0655755996704102, 1.0655642747879028, 1.0655920505523682, 10.734554290771484, 3.6963350772857666, 4.5742058753967285, 1.9414969682693481, 5.453096866607666, 1.9419063329696655, 2.819329023361206, 1.942209005355835, 1.9425050020217896, 1.9423191547393799, 3.6980085372924805, 2.820394277572632, 3.6981313228607178, 1.942147970199585, 1.942652702331543, 1.9425954818725586, 3.7147679328918457, 1.942209243774414, 1.9429116249084473, 2.820629835128784, 1.9429361820220947, 1.9429292678833008, 1.9426603317260742, 1.9429267644882202, 1.0647432804107666, 1.0649298429489136, 1.0649911165237427, 1.065117359161377, 1.065145492553711, 1.0651156902313232, 1.065171718597412, 1.06520676612854, 1.0648860931396484, 1.0651623010635376, 1.065363883972168, 1.0654395818710327, 1.065190076828003, 1.0652612447738647, 1.0653513669967651, 1.065314769744873, 1.0653403997421265, 1.0653035640716553, 1.0654051303863525, 1.0655900239944458, 1.0653904676437378, 1.065359354019165, 1.0652762651443481, 1.0654239654541016, 1.0654296875, 1.0655642747879028, 1.0653877258300781, 1.0654360055923462, 1.0655920505523682, 1.0656474828720093, 1.0657117366790771, 1.0656391382217407, 1.0655781030654907, 1.0655262470245361, 1.0657958984375, 10.734554290771484, 5.453096866607666, 4.5742058753967285, 2.819329023361206, 3.6980085372924805, 3.6963350772857666, 3.6981313228607178, 2.820629835128784, 1.9419063329696655, 1.9426603317260742, 1.9414969682693481, 3.7147679328918457, 1.942147970199585, 1.9423191547393799, 1.942209243774414, 1.9429267644882202, 1.9425050020217896, 2.820394277572632, 1.9429292678833008, 1.9429116249084473, 1.9429361820220947, 1.942652702331543, 1.943508267402649, 1.9425954818725586, 1.942209005355835, 1.0647432804107666, 1.0648860931396484, 1.0653403997421265, 1.065117359161377, 1.065359354019165, 1.0649911165237427, 1.0649298429489136, 1.0653877258300781, 1.065145492553711, 1.0652612447738647, 1.0651623010635376, 1.065171718597412, 1.065190076828003, 1.0652762651443481, 1.0653035640716553, 1.065363883972168, 1.065314769744873, 1.0651156902313232, 1.0654395818710327, 1.0654360055923462, 1.0653513669967651, 1.0654296875, 1.0655781030654907, 1.0653904676437378, 1.0655755996704102, 1.0654239654541016, 1.0654051303863525, 1.0656391382217407, 1.0656474828720093, 1.0655642747879028, 1.0655262470245361, 10.734554290771484, 5.453096866607666, 3.6981313228607178, 3.6980085372924805, 4.5742058753967285, 2.819329023361206, 3.6963350772857666, 2.820629835128784, 1.9419063329696655, 1.942147970199585, 1.9426603317260742, 1.942209243774414, 1.9425050020217896, 2.820394277572632, 1.942209005355835, 3.7147679328918457, 1.942652702331543, 1.9429292678833008, 1.9425954818725586, 1.9414969682693481, 1.943508267402649, 1.9423191547393799, 1.9429116249084473, 1.9429267644882202, 1.9429361820220947], \"loglift\": [30.0, 29.0, 28.0, 27.0, 26.0, 25.0, 24.0, 23.0, 22.0, 21.0, 20.0, 19.0, 18.0, 17.0, 16.0, 15.0, 14.0, 13.0, 12.0, 11.0, 10.0, 9.0, 8.0, 7.0, 6.0, 5.0, 4.0, 3.0, 2.0, 1.0, 0.60589998960495, 0.6037999987602234, 0.5945000052452087, 0.5893999934196472, 0.5893999934196472, 0.5809999704360962, 0.5809999704360962, 0.5809999704360962, 0.5648999810218811, 0.5648999810218811, 0.5648999810218811, 0.5648999810218811, 0.5648999810218811, 0.5648999810218811, 0.5648999810218811, 0.5648000240325928, 0.5648000240325928, 0.520799994468689, 0.520799994468689, 0.520799994468689, 0.520799994468689, 0.520799994468689, 0.520799994468689, 0.520799994468689, 0.520799994468689, 0.520799994468689, 0.520799994468689, 0.520799994468689, 0.520799994468689, 0.520799994468689, 0.31459999084472656, -1.7727999687194824, 0.7720000147819519, 0.7684000134468079, 0.7631000280380249, 0.7631000280380249, 0.7631000280380249, 0.7544000148773193, 0.7544000148773193, 0.7544000148773193, 0.7376000285148621, 0.7376000285148621, 0.7376000285148621, 0.7376000285148621, 0.7376000285148621, 0.7376000285148621, 0.7376000285148621, 0.7376000285148621, 0.7376000285148621, 0.7376000285148621, 0.7376000285148621, 0.7376000285148621, 0.7376000285148621, 0.7376000285148621, 0.737500011920929, 0.6933000087738037, 0.6917999982833862, 0.6917999982833862, 0.6917999982833862, 0.6917999982833862, 0.6917999982833862, 0.6917999982833862, 0.6917999982833862, 0.47909998893737793, 0.4465000033378601, 0.4462999999523163, 0.4462999999523163, 0.44609999656677246, 0.4458000063896179, 0.4456999897956848, 0.4456000030040741, 0.4453999996185303, 0.4449000060558319, 0.4447999894618988, 0.4447999894618988, 0.4447999894618988, 0.4447000026702881, 0.4447000026702881, 0.4447000026702881, 0.44440001249313354, 0.44429999589920044, 0.44429999589920044, 0.44429999589920044, 0.44429999589920044, 0.4442000091075897, 0.4442000091075897, 0.4442000091075897, 0.4442000091075897, 0.4440999925136566, 0.4440999925136566, 0.4440000057220459, 0.4438999891281128, 0.4438999891281128, 0.4438000023365021, 0.4438000023365021, -1.829800009727478, -0.14730000495910645, -0.147599995136261, -0.148499995470047, -0.1501999944448471, -1.1741000413894653, -1.0009000301361084, -0.7900000214576721, -0.7896999716758728, -0.7904000282287598, -0.5196999907493591, -0.521399974822998, -0.5231999754905701, -0.15070000290870667, -0.15139999985694885, -0.15199999511241913, -0.1517000049352646, -0.8004000186920166, -0.15199999511241913, -0.1527000069618225, -0.15299999713897705, -0.15330000221729279, -0.15399999916553497, -0.15399999916553497, -0.15530000627040863, 0.44110000133514404, 0.4401000142097473, 0.43959999084472656, 0.43939998745918274, 0.4392000138759613, 0.4368000030517578, 0.43619999289512634, 0.4359999895095825, 0.43560001254081726, 0.43529999256134033, 0.4352000057697296, 0.4352000057697296, 0.4348999857902527, 0.43479999899864197, 0.43459999561309814, 0.4343999922275543, 0.43380001187324524, 0.4327000081539154, 0.4325999915599823, 0.4325999915599823, 0.43230000138282776, 0.43209999799728394, 0.4320000112056732, 0.4318000078201294, 0.4318000078201294, 0.43149998784065247, 0.43140000104904175, 0.43140000104904175, 0.43130001425743103, 0.4311999976634979, 0.4311000108718872, -1.5161999464035034, -1.3906999826431274, -0.9139000177383423, -0.7167999744415283, -0.12630000710487366, -0.7254999876022339, -0.4733000099658966, -0.12639999389648438, -0.4797999858856201, -0.13369999825954437, -0.13490000367164612, -0.13680000603199005, -0.13950000703334808, -0.49900001287460327, -0.14259999990463257, -0.14390000700950623, -0.7660999894142151, -0.15060000121593475, -0.7937999963760376, -0.15539999306201935, 0.4339999854564667, 0.4334999918937683, 0.4334999918937683, 0.4332999885082245, 0.43309998512268066, 0.4327000081539154, 0.4325999915599823, 0.4325999915599823, 0.43230000138282776, 0.43220001459121704, 0.4320000112056732, 0.4320000112056732, 0.4318000078201294, 0.4318000078201294, 0.43160000443458557, 0.43149998784065247, 0.43140000104904175, 0.43140000104904175, 0.43130001425743103, 0.43130001425743103, 0.4311999976634979, 0.4311999976634979, 0.4311999976634979, 0.4311999976634979, 0.4311999976634979, 0.4311999976634979, 0.4311000108718872, 0.4311000108718872, 0.4311000108718872, 0.4311000108718872, 0.4309000074863434, 0.4309000074863434, 0.4307999908924103, 0.4307999908924103, 0.4307999908924103, 0.43070000410079956, 0.43070000410079956, 0.430400013923645, 0.4302000105381012, 0.42989999055862427, 0.42989999055862427, 0.42969998717308044, 0.429500013589859, 0.429500013589859, -1.6605000495910645, -0.7656999826431274, -0.7666000127792358, -1.5270999670028687, -0.5067999958992004, -0.1525000035762787, -0.9853000044822693, -0.5156000256538391, -0.520799994468689, -0.15809999406337738, -0.7901999950408936, -0.1606999933719635, -0.16339999437332153, -0.16380000114440918, -0.16459999978542328, -0.16660000383853912, -0.1687999963760376, -0.16869999468326569, 0.44290000200271606, 0.44269999861717224, 0.44269999861717224, 0.4426000118255615, 0.4424999952316284, 0.4424999952316284, 0.4424999952316284, 0.4424999952316284, 0.4424000084400177, 0.4424000084400177, 0.4424000084400177, 0.4424000084400177, 0.4422999918460846, 0.4422999918460846, 0.4422999918460846, 0.4422999918460846, 0.4422999918460846, 0.4422999918460846, 0.4422999918460846, 0.4422999918460846, 0.4422000050544739, 0.4422000050544739, 0.4422000050544739, 0.4422000050544739, 0.4422000050544739, 0.4422000050544739, 0.44209998846054077, 0.44209998846054077, 0.44209998846054077, 0.44209998846054077, 0.44209998846054077, 0.4284999966621399, 0.4278999865055084, 0.42820000648498535, 0.42820000648498535, 0.4284999966621399, 0.4277999997138977, 0.4284999966621399, 0.4284999966621399, 0.42809998989105225, 0.42800000309944153, 0.427700012922287, 0.4277999997138977, 0.427700012922287, 0.42809998989105225, 0.4284999966621399, 0.4277999997138977, 0.4284000098705292, 0.4278999865055084, 0.42809998989105225, 0.42820000648498535, 0.4277999997138977, 0.42800000309944153, 0.42800000309944153, 0.4278999865055084, 0.4278999865055084, 0.4277999997138977, 0.42750000953674316, 0.4278999865055084, 0.4277999997138977, 0.42800000309944153, 0.42739999294281006, 0.42719998955726624, -1.7834999561309814, -1.5944000482559204, -0.8137000203132629, -0.5437999963760376, -0.5440999865531921, -1.0286999940872192, -0.8151999711990356, -0.544700026512146, -0.8125, -0.17219999432563782, -0.17149999737739563, -0.17260000109672546, -0.17239999771118164, -0.17339999973773956, -0.17309999465942383, -0.1736000031232834, -0.16509999334812164, -0.17399999499320984, -1.8660000562667847, -0.1738000065088272, -0.1655000001192093, 0.4442000091075897, 0.4440000057220459, 0.4440000057220459, 0.4438999891281128, 0.4438000023365021, 0.4438000023365021, 0.4438000023365021, 0.4438000023365021, 0.4438000023365021, 0.44369998574256897, 0.44369998574256897, 0.44369998574256897, 0.44369998574256897, 0.44359999895095825, 0.44359999895095825, 0.44359999895095825, 0.44359999895095825, 0.44359999895095825, 0.44359999895095825, 0.44359999895095825, 0.44359999895095825, 0.44350001215934753, 0.44350001215934753, 0.44350001215934753, 0.44350001215934753, 0.44350001215934753, 0.44339999556541443, 0.44339999556541443, 0.44339999556541443, 0.44339999556541443, 0.44339999556541443, -0.17479999363422394, 0.42750000953674316, 0.42719998955726624, 0.4277999997138977, 0.427700012922287, -1.0326999425888062, 0.427700012922287, 0.42800000309944153, 0.42750000953674316, 0.4278999865055084, 0.42809998989105225, 0.427700012922287, 0.42739999294281006, 0.42809998989105225, 0.4271000027656555, -1.8666000366210938, 0.427700012922287, 0.42730000615119934, 0.42750000953674316, -0.5479999780654907, 0.42739999294281006, 0.4275999963283539, 0.42800000309944153, 0.427700012922287, 0.4271000027656555, -1.7984999418258667, 0.4271000027656555, -0.16580000519752502, 0.426800012588501, 0.4514000117778778, 0.4503999948501587, 0.4496000111103058, 0.44929999113082886, 0.44909998774528503, 0.44909998774528503, 0.4489000141620636, 0.447299987077713, 0.4472000002861023, 0.4472000002861023, 0.4472000002861023, 0.4472000002861023, 0.4465999901294708, 0.4465999901294708, 0.4465000033378601, 0.4462999999523163, 0.4462999999523163, 0.44600000977516174, 0.44600000977516174, 0.4458000063896179, 0.4458000063896179, 0.4458000063896179, 0.4453999996185303, 0.44530001282691956, 0.4449999928474426, 0.4449999928474426, 0.44429999589920044, 0.4438999891281128, 0.44369998574256897, 0.44369998574256897, -1.7821999788284302, -0.7572000026702881, -0.9652000069618225, -0.1356000006198883, -1.1486999988555908, -0.13779999315738678, -0.5045999884605408, -0.13979999721050262, -0.14190000295639038, -0.14249999821186066, -0.7767999768257141, -0.5098000168800354, -0.7781999707221985, -0.14350000023841858, -0.14409999549388885, -0.1444000005722046, -0.7870000004768372, -0.1454000025987625, -0.14630000293254852, -0.5163999795913696, -0.14740000665187836, -0.14810000360012054, -0.14810000360012054, -0.14910000562667847, 0.44449999928474426, 0.44429999589920044, 0.4442000091075897, 0.4442000091075897, 0.4442000091075897, 0.4440999925136566, 0.4440999925136566, 0.4440999925136566, 0.4440000057220459, 0.4440000057220459, 0.4440000057220459, 0.4440000057220459, 0.4438999891281128, 0.4438999891281128, 0.4438000023365021, 0.4438000023365021, 0.4438000023365021, 0.4438000023365021, 0.4438000023365021, 0.4438000023365021, 0.4438000023365021, 0.44369998574256897, 0.44369998574256897, 0.44369998574256897, 0.44369998574256897, 0.44359999895095825, 0.44359999895095825, 0.44359999895095825, 0.44350001215934753, 0.44350001215934753, 0.44339999556541443, 0.44339999556541443, 0.44339999556541443, 0.44350001215934753, 0.4431999921798706, -1.8609999418258667, -1.1858999729156494, -1.0108000040054321, -0.527400016784668, -0.7990000247955322, -0.7986999750137329, -0.7994999885559082, -0.5286999940872192, -0.15559999644756317, -0.15620000660419464, -0.15569999814033508, -0.8046000003814697, -0.15610000491142273, -0.15620000660419464, -0.15610000491142273, -0.15649999678134918, -0.15639999508857727, -0.5292999744415283, -0.1565999984741211, -0.1565999984741211, -0.156700000166893, -0.15649999678134918, -0.15700000524520874, -0.156700000166893, -0.15649999678134918, 0.44510000944137573, 0.4447999894618988, 0.4447000026702881, 0.4447000026702881, 0.4447000026702881, 0.444599986076355, 0.44449999928474426, 0.44440001249313354, 0.44440001249313354, 0.44429999589920044, 0.44429999589920044, 0.4442000091075897, 0.4442000091075897, 0.4440999925136566, 0.4440999925136566, 0.4440000057220459, 0.4440000057220459, 0.4440000057220459, 0.4438999891281128, 0.4438000023365021, 0.4438000023365021, 0.4438000023365021, 0.44369998574256897, 0.44369998574256897, 0.44369998574256897, 0.44369998574256897, 0.44359999895095825, 0.44359999895095825, 0.44359999895095825, 0.44359999895095825, 0.44350001215934753, -1.8545000553131104, -1.1821999549865723, -0.7960000038146973, -0.7960000038146973, -1.0088000297546387, -0.5249999761581421, -0.7964000105857849, -0.5267000198364258, -0.15410000085830688, -0.15449999272823334, -0.15469999611377716, -0.15449999272823334, -0.1550000011920929, -0.527999997138977, -0.1550000011920929, -0.8034999966621399, -0.15539999306201935, -0.15559999644756317, -0.15539999306201935, -0.15489999949932098, -0.15600000321865082, -0.15539999306201935, -0.155799999833107, -0.15600000321865082, -0.15600000321865082], \"logprob\": [30.0, 29.0, 28.0, 27.0, 26.0, 25.0, 24.0, 23.0, 22.0, 21.0, 20.0, 19.0, 18.0, 17.0, 16.0, 15.0, 14.0, 13.0, 12.0, 11.0, 10.0, 9.0, 8.0, 7.0, 6.0, 5.0, 4.0, 3.0, 2.0, 1.0, -2.625999927520752, -2.823899984359741, -3.4033000469207764, -3.6221001148223877, -3.622299909591675, -3.9012999534606934, -3.9014999866485596, -3.9017999172210693, -4.289899826049805, -4.29040002822876, -4.290599822998047, -4.2906999588012695, -4.2906999588012695, -4.290800094604492, -4.290999889373779, -4.291299819946289, -4.291399955749512, -4.936200141906738, -4.936399936676025, -4.936500072479248, -4.936600208282471, -4.936600208282471, -4.936699867248535, -4.936699867248535, -4.936699867248535, -4.936800003051758, -4.936800003051758, -4.936800003051758, -4.936800003051758, -4.936800003051758, -3.900599956512451, -4.936699867248535, -3.0690999031066895, -3.248500108718872, -3.4665000438690186, -3.466399908065796, -3.466900110244751, -3.7460999488830566, -3.746000051498413, -3.746500015258789, -4.135200023651123, -4.135499954223633, -4.135499954223633, -4.135499954223633, -4.135499954223633, -4.135700225830078, -4.135700225830078, -4.135799884796143, -4.135700225830078, -4.135900020599365, -4.135900020599365, -4.136099815368652, -4.135900020599365, -4.136000156402588, -4.136300086975098, -2.470599889755249, -4.781799793243408, -4.781799793243408, -4.781899929046631, -4.781899929046631, -4.781899929046631, -4.7820000648498535, -4.7820000648498535, -3.7458999156951904, -5.02810001373291, -5.02810001373291, -5.027900218963623, -5.02839994430542, -5.02839994430542, -5.028500080108643, -5.02869987487793, -5.028800010681152, -5.029200077056885, -5.0289998054504395, -5.029200077056885, -5.029300212860107, -5.029300212860107, -5.0295000076293945, -5.029200077056885, -5.029699802398682, -5.029699802398682, -5.029699802398682, -5.029699802398682, -5.029799938201904, -5.029600143432617, -5.029600143432617, -5.029799938201904, -5.029600143432617, -5.029699802398682, -5.029900074005127, -5.030200004577637, -5.029900074005127, -5.030099868774414, -5.029900074005127, -5.030200004577637, -4.99370002746582, -5.0208001136779785, -5.021500110626221, -5.02209997177124, -5.023499965667725, -5.0152997970581055, -5.0177998542785645, -5.019499778747559, -5.019599914550781, -5.019899845123291, -5.020500183105469, -5.021699905395508, -5.02370023727417, -5.024199962615967, -5.024499893188477, -5.025300025939941, -5.025400161743164, -5.025400161743164, -5.0254998207092285, -5.0258002281188965, -5.026100158691406, -5.026500225067139, -5.027200222015381, -5.027400016784668, -5.02810001373291, -5.017199993133545, -5.018400192260742, -5.019000053405762, -5.019100189208984, -5.0192999839782715, -5.021599769592285, -5.02209997177124, -5.02239990234375, -5.022600173950195, -5.0229997634887695, -5.022900104522705, -5.022900104522705, -5.0233001708984375, -5.0233001708984375, -5.023900032043457, -5.023799896240234, -5.0243000984191895, -5.025700092315674, -5.0254998207092285, -5.0254998207092285, -5.025899887084961, -5.025599956512451, -5.026299953460693, -5.026199817657471, -5.026500225067139, -5.026599884033203, -5.026500225067139, -5.026800155639648, -5.026400089263916, -5.0269999504089355, -5.026800155639648, -4.7480998039245605, -4.81850004196167, -4.911600112915039, -4.928400039672852, -4.982100009918213, -4.936999797821045, -4.956099987030029, -4.982500076293945, -4.962200164794922, -4.9899001121521, -4.990499973297119, -4.992400169372559, -4.994999885559082, -4.981299877166748, -4.998300075531006, -4.999199867248535, -4.981299877166748, -5.00540018081665, -5.018799781799316, -5.020100116729736, -5.024400234222412, -5.024499893188477, -5.024700164794922, -5.025199890136719, -5.025100231170654, -5.025400161743164, -5.025300025939941, -5.025300025939941, -5.026000022888184, -5.025400161743164, -5.025899887084961, -5.026199817657471, -5.026400089263916, -5.026500225067139, -5.043000221252441, -5.043000221252441, -5.043000221252441, -5.043000221252441, -5.043000221252441, -5.043000221252441, -5.043000221252441, -5.043000221252441, -5.043000221252441, -5.026500225067139, -5.043000221252441, -5.043000221252441, -5.0269999504089355, -5.026400089263916, -5.043000221252441, -5.043000221252441, -5.027100086212158, -5.026899814605713, -5.027200222015381, -5.027299880981445, -5.027699947357178, -5.027400016784668, -5.027100086212158, -5.027699947357178, -5.027900218963623, -5.0278000831604, -5.02869987487793, -5.028299808502197, -5.027900218963623, -5.028200149536133, -4.892499923706055, -4.977200031280518, -4.978300094604492, -4.954800128936768, -4.988999843597412, -5.008800029754639, -4.983099937438965, -4.9984002113342285, -5.003300189971924, -5.013700008392334, -5.00540018081665, -5.0167999267578125, -5.019000053405762, -5.0192999839782715, -5.019899845123291, -5.022200107574463, -5.023600101470947, -5.024499893188477, -5.031700134277344, -5.031700134277344, -5.031700134277344, -5.031700134277344, -5.031700134277344, -5.031700134277344, -5.031700134277344, -5.031700134277344, -5.031799793243408, -5.031700134277344, -5.031799793243408, -5.031700134277344, -5.031799793243408, -5.031799793243408, -5.031700134277344, -5.031700134277344, -5.031700134277344, -5.031700134277344, -5.031799793243408, -5.031700134277344, -5.031700134277344, -5.031799793243408, -5.031700134277344, -5.031700134277344, -5.031799793243408, -5.031799793243408, -5.031700134277344, -5.031799793243408, -5.031700134277344, -5.031799793243408, -5.031799793243408, -5.029799938201904, -5.029699802398682, -5.029799938201904, -5.029799938201904, -5.029900074005127, -5.029900074005127, -5.029900074005127, -5.03000020980835, -5.03000020980835, -5.03000020980835, -5.03000020980835, -5.03000020980835, -5.029900074005127, -5.03000020980835, -5.030099868774414, -5.03000020980835, -5.030099868774414, -5.030099868774414, -5.030200004577637, -5.030200004577637, -5.030200004577637, -5.030200004577637, -5.030200004577637, -5.030200004577637, -5.030200004577637, -5.030200004577637, -5.030200004577637, -5.030200004577637, -5.030300140380859, -5.030300140380859, -5.030300140380859, -5.030300140380859, -5.015500068664551, -5.02209997177124, -5.025199890136719, -5.026299953460693, -5.026400089263916, -5.026400089263916, -5.026800155639648, -5.027500152587891, -5.0278000831604, -5.0278000831604, -5.0278000831604, -5.027900218963623, -5.0279998779296875, -5.028200149536133, -5.02869987487793, -5.029099941253662, -5.029799938201904, -5.029799938201904, -5.029799938201904, -5.029900074005127, -5.03000020980835, -5.030399799346924, -5.030399799346924, -5.030399799346924, -5.030399799346924, -5.030399799346924, -5.030399799346924, -5.030399799346924, -5.030399799346924, -5.030399799346924, -5.030399799346924, -5.030399799346924, -5.030399799346924, -5.030399799346924, -5.030399799346924, -5.030399799346924, -5.030399799346924, -5.030399799346924, -5.030399799346924, -5.030399799346924, -5.030399799346924, -5.030399799346924, -5.030399799346924, -5.030399799346924, -5.030399799346924, -5.030399799346924, -5.030399799346924, -5.030399799346924, -5.030399799346924, -5.030399799346924, -5.030399799346924, -5.030399799346924, -5.030399799346924, -5.030399799346924, -5.030399799346924, -5.030399799346924, -5.030399799346924, -5.030399799346924, -5.030399799346924, -5.030399799346924, -5.030399799346924, -5.030399799346924, -5.030399799346924, -5.030399799346924, -5.030399799346924, -5.030399799346924, -5.030399799346924, -5.030399799346924, -5.030399799346924, -5.030399799346924, -5.030399799346924, -5.030399799346924, -5.030399799346924, -5.030399799346924, -5.030399799346924, -5.030399799346924, -5.030399799346924, -5.030399799346924, -5.030399799346924, -5.030399799346924, -5.030399799346924, -5.023200035095215, -5.02400016784668, -5.024799823760986, -5.025100231170654, -5.025100231170654, -5.025100231170654, -5.025199890136719, -5.026899814605713, -5.026899814605713, -5.0269999504089355, -5.026899814605713, -5.027100086212158, -5.027400016784668, -5.027599811553955, -5.027500152587891, -5.0278000831604, -5.0278000831604, -5.027900218963623, -5.0279998779296875, -5.028200149536133, -5.028200149536133, -5.028200149536133, -5.028600215911865, -5.028600215911865, -5.0289998054504395, -5.0289998054504395, -5.029600143432617, -5.029900074005127, -5.030099868774414, -5.030099868774414, -4.946000099182129, -4.987199783325195, -4.982100009918213, -5.009500026702881, -4.989799976348877, -5.011499881744385, -5.00540018081665, -5.013299942016602, -5.0152997970581055, -5.015999794006348, -5.006400108337402, -5.010200023651123, -5.007699966430664, -5.017000198364258, -5.017399787902832, -5.0177001953125, -5.01200008392334, -5.018899917602539, -5.019499778747559, -5.0167999267578125, -5.020500183105469, -5.021200180053711, -5.021399974822998, -5.022200107574463, -5.030099868774414, -5.030099868774414, -5.030099868774414, -5.030099868774414, -5.030099868774414, -5.030200004577637, -5.030099868774414, -5.030099868774414, -5.030399799346924, -5.030200004577637, -5.030099868774414, -5.03000020980835, -5.030300140380859, -5.030300140380859, -5.030200004577637, -5.030300140380859, -5.030300140380859, -5.030300140380859, -5.030200004577637, -5.03000020980835, -5.030200004577637, -5.030300140380859, -5.030399799346924, -5.030300140380859, -5.030300140380859, -5.030300140380859, -5.030399799346924, -5.030399799346924, -5.030300140380859, -5.030200004577637, -5.030300140380859, -5.030399799346924, -5.030399799346924, -5.030399799346924, -5.030399799346924, -5.024799823760986, -5.0269999504089355, -5.027699947357178, -5.028299808502197, -5.028500080108643, -5.02869987487793, -5.0289998054504395, -5.029099941253662, -5.029300212860107, -5.0295000076293945, -5.029600143432617, -5.029600143432617, -5.029600143432617, -5.029600143432617, -5.029600143432617, -5.029699802398682, -5.029799938201904, -5.029799938201904, -5.029799938201904, -5.029799938201904, -5.029799938201904, -5.029799938201904, -5.029900074005127, -5.03000020980835, -5.03000020980835, -5.0295000076293945, -5.029699802398682, -5.029399871826172, -5.029600143432617, -5.029399871826172, -5.029799938201904, -5.03000020980835, -5.029600143432617, -5.029900074005127, -5.029799938201904, -5.029900074005127, -5.03000020980835, -5.03000020980835, -5.03000020980835, -5.03000020980835, -5.03000020980835, -5.030099868774414, -5.030300140380859, -5.03000020980835, -5.030099868774414, -5.030300140380859, -5.030200004577637, -5.030099868774414, -5.030300140380859, -5.030099868774414, -5.030300140380859, -5.030399799346924, -5.030200004577637, -5.030200004577637, -5.030200004577637, -5.030300140380859, -5.018400192260742, -5.023399829864502, -5.0254998207092285, -5.0254998207092285, -5.025700092315674, -5.025899887084961, -5.026400089263916, -5.027100086212158, -5.0278000831604, -5.0279998779296875, -5.0279998779296875, -5.0279998779296875, -5.02839994430542, -5.028500080108643, -5.028500080108643, -5.028600215911865, -5.02869987487793, -5.02869987487793, -5.02869987487793, -5.028800010681152, -5.028800010681152, -5.028800010681152, -5.028900146484375, -5.029099941253662, -5.029200077056885]}, \"token.table\": {\"Topic\": [2, 2, 2, 2, 2, 1, 1, 1, 1, 1, 1, 2, 1, 2, 2, 2, 1, 1, 2, 2, 1, 1, 1, 2, 2, 1, 1, 1, 2, 1, 1, 1, 2, 1, 1, 2, 1, 1, 2, 1, 2, 2, 1, 2, 1, 2, 1, 2, 2, 2, 1, 2, 2, 1, 1, 2, 1, 1, 2, 1, 2, 1, 2, 1, 1, 1, 2, 1, 2, 1, 1, 1, 1, 1, 2, 1, 1, 1, 2, 1, 1, 1, 2, 2, 2, 2, 2, 1, 1, 1, 1, 2, 1, 2, 1, 2, 2, 1, 2, 1, 2, 2, 1, 2, 2, 1, 1, 1, 2, 1, 2, 1, 2, 1, 1, 1, 1, 1, 1, 2, 2, 1, 2, 1, 1, 1, 1, 1, 1, 2, 1, 2, 2, 2, 1, 1, 1, 2, 1, 1, 2, 2, 2, 1, 2, 1, 1, 1, 2, 1, 2], \"Freq\": [1.0293829441070557, 0.9385797381401062, 1.0293748378753662, 0.9386504292488098, 0.938457727432251, 1.0624489784240723, 0.9238934516906738, 0.9234490990638733, 0.9228397607803345, 0.9237651824951172, 0.9234839677810669, 0.9387368559837341, 0.9239475727081299, 0.9386230111122131, 1.0297551155090332, 0.9390289783477783, 0.9237498044967651, 0.9238686561584473, 0.9385935068130493, 0.9385884404182434, 0.9241898655891418, 0.9237469434738159, 0.2691958248615265, 0.8075874447822571, 0.9386574625968933, 1.0114678144454956, 0.9238502383232117, 1.0106695890426636, 0.9384039640426636, 0.9702812433242798, 0.9236322045326233, 0.9232931733131409, 0.9169101715087891, 0.9231511354446411, 1.0121278762817383, 0.9386995434761047, 0.9234176874160767, 0.9233568906784058, 0.9391935467720032, 0.923236072063446, 1.0295161008834839, 0.9385033845901489, 0.9233739972114563, 0.9387995600700378, 0.9239501357078552, 0.9387848973274231, 1.0116873979568481, 1.0299158096313477, 0.9388157725334167, 0.938723623752594, 1.0622739791870117, 0.9389749765396118, 0.8744687438011169, 0.9237759709358215, 0.9237899780273438, 0.9386897087097168, 0.9234523773193359, 0.923828125, 0.9390676021575928, 0.5102287530899048, 0.5102287530899048, 0.9239078164100647, 0.9386100769042969, 0.9236502051353455, 0.9238519668579102, 0.09315710514783859, 0.9315710663795471, 0.9233152270317078, 1.0636811256408691, 0.9241855144500732, 0.9235389828681946, 0.923900306224823, 0.924187958240509, 0.9236622452735901, 0.9386464357376099, 1.011488914489746, 0.9241402745246887, 0.9238171577453613, 0.9388240575790405, 1.0723814964294434, 0.9238259792327881, 0.9239409565925598, 1.029369831085205, 0.9382679462432861, 0.9386671185493469, 1.0301330089569092, 0.9384472370147705, 0.923442006111145, 0.9236461520195007, 0.9234450459480286, 0.9236847162246704, 0.9383966326713562, 1.0447019338607788, 0.9388388991355896, 0.9235526919364929, 1.0816632509231567, 0.9384698867797852, 0.9233015179634094, 1.0296969413757324, 1.0445080995559692, 0.9382659196853638, 1.0293735265731812, 0.9230902791023254, 1.0821529626846313, 0.9386253952980042, 0.9233561754226685, 1.011155605316162, 0.9241397976875305, 0.9388636946678162, 0.923038899898529, 1.0295504331588745, 0.5103540420532227, 0.5103540420532227, 0.9232990741729736, 0.9972283840179443, 0.923281192779541, 0.9238577485084534, 0.9241523146629333, 0.9237870573997498, 1.0297552347183228, 1.029598355293274, 0.924096405506134, 1.0640829801559448, 0.9240632057189941, 0.9235722422599792, 0.9234650731086731, 0.9231646656990051, 0.9236383438110352, 0.9238883852958679, 0.9384599328041077, 1.012018084526062, 0.9388651251792908, 1.0295201539993286, 0.9384454488754272, 1.011335849761963, 0.9237818717956543, 1.0450489521026611, 1.0290669202804565, 0.9233396649360657, 0.9238507151603699, 0.9383400678634644, 1.0297876596450806, 1.0635921955108643, 0.7997196316719055, 0.2665732204914093, 0.923956573009491, 1.0114953517913818, 0.9243242740631104, 1.081627368927002, 0.924065351486206, 0.9385828971862793], \"Term\": [\"''\", \"1878\", \"Graphs\", \"James\", \"Joseph\", \"N-Learning\", \"Operating\", \"Python\", \"Results\", \"Robot\", \"Stage\", \"Sylvester\", \"System\", \"Typically\", \"``\", \"abstraction\", \"accomplish\", \"act\", \"admiration\", \"admiring\", \"allows\", \"already\", \"also\", \"also\", \"amount\", \"approach\", \"autonomously\", \"base\", \"basic\", \"behavior\", \"behavioral\", \"break\", \"call\", \"certain\", \"change\", \"circle\", \"come\", \"compatible\", \"contrast\", \"cooperative\", \"correspond\", \"curve\", \"demonstrate\", \"depict\", \"develop\", \"diagrammatic\", \"different\", \"direct\", \"directed\", \"discrete\", \"domain\", \"dot\", \"edge\", \"emerge\", \"environment\", \"example\", \"exist\", \"experiment\", \"first\", \"form\", \"form\", \"formal\", \"former\", \"fulfil\", \"give\", \"graph\", \"graph\", \"group\", \"hand\", \"ie\", \"implementation\", \"individual\", \"individually\", \"interaction\", \"join\", \"knowledge\", \"language\", \"large\", \"latter\", \"learn\", \"learning\", \"less\", \"line\", \"link\", \"mathematical\", \"mathematics\", \"may\", \"mission\", \"model\", \"multi-robot\", \"multirobot\", \"necessarily\", \"need\", \"node\", \"number\", \"object\", \"one\", \"online\", \"pair\", \"paradigm\", \"party\", \"people\", \"perform\", \"person\", \"point\", \"possess\", \"propose\", \"real\", \"reciprocate\", \"reference\", \"related\", \"represent\", \"represent\", \"reprogramming\", \"robot\", \"robotics\", \"robots\", \"run\", \"scope\", \"sense\", \"set\", \"several\", \"shake\", \"share\", \"sharing\", \"show\", \"simple\", \"simulator\", \"simultaneously\", \"specifically\", \"state\", \"structure\", \"study\", \"subject\", \"system\", \"teach\", \"team\", \"theory\", \"time\", \"turn\", \"two\", \"type\", \"undirected\", \"use\", \"use\", \"useful\", \"validate\", \"versatility\", \"vertex\", \"without\", \"word\"]}, \"R\": 30, \"lambda.step\": 0.01, \"plot.opts\": {\"xlab\": \"PC1\", \"ylab\": \"PC2\"}, \"topic.order\": [9, 1, 10, 8, 7, 6, 5, 4, 3, 2]};\n",
       "\n",
       "function LDAvis_load_lib(url, callback){\n",
       "  var s = document.createElement('script');\n",
       "  s.src = url;\n",
       "  s.async = true;\n",
       "  s.onreadystatechange = s.onload = callback;\n",
       "  s.onerror = function(){console.warn(\"failed to load library \" + url);};\n",
       "  document.getElementsByTagName(\"head\")[0].appendChild(s);\n",
       "}\n",
       "\n",
       "if(typeof(LDAvis) !== \"undefined\"){\n",
       "   // already loaded: just create the visualization\n",
       "   !function(LDAvis){\n",
       "       new LDAvis(\"#\" + \"ldavis_el1221397932886620166297300129\", ldavis_el1221397932886620166297300129_data);\n",
       "   }(LDAvis);\n",
       "}else if(typeof define === \"function\" && define.amd){\n",
       "   // require.js is available: use it to load d3/LDAvis\n",
       "   require.config({paths: {d3: \"https://cdnjs.cloudflare.com/ajax/libs/d3/3.5.5/d3.min\"}});\n",
       "   require([\"d3\"], function(d3){\n",
       "      window.d3 = d3;\n",
       "      LDAvis_load_lib(\"https://cdn.rawgit.com/bmabey/pyLDAvis/files/ldavis.v1.0.0.js\", function(){\n",
       "        new LDAvis(\"#\" + \"ldavis_el1221397932886620166297300129\", ldavis_el1221397932886620166297300129_data);\n",
       "      });\n",
       "    });\n",
       "}else{\n",
       "    // require.js not available: dynamically load d3 & LDAvis\n",
       "    LDAvis_load_lib(\"https://cdnjs.cloudflare.com/ajax/libs/d3/3.5.5/d3.min.js\", function(){\n",
       "         LDAvis_load_lib(\"https://cdn.rawgit.com/bmabey/pyLDAvis/files/ldavis.v1.0.0.js\", function(){\n",
       "                 new LDAvis(\"#\" + \"ldavis_el1221397932886620166297300129\", ldavis_el1221397932886620166297300129_data);\n",
       "            })\n",
       "         });\n",
       "}\n",
       "</script>"
      ],
      "text/plain": [
       "<IPython.core.display.HTML object>"
      ]
     },
     "execution_count": 341,
     "metadata": {
      "tags": []
     },
     "output_type": "execute_result"
    }
   ],
   "source": [
    "%matplotlib inline\n",
    "import pyLDAvis\n",
    "import pyLDAvis.gensim\n",
    "vis = pyLDAvis.gensim.prepare(topic_model=lda_model, corpus=corpus, dictionary=texts_dictionary)\n",
    "pyLDAvis.enable_notebook()\n",
    "pyLDAvis.display(vis)"
   ]
  }
 ],
 "metadata": {
  "colab": {
   "collapsed_sections": [],
   "name": "Untitled1.ipynb",
   "provenance": [],
   "version": "0.3.2"
  },
  "kernelspec": {
   "display_name": "Python 3",
   "language": "python",
   "name": "python3"
  },
  "language_info": {
   "codemirror_mode": {
    "name": "ipython",
    "version": 3
   },
   "file_extension": ".py",
   "mimetype": "text/x-python",
   "name": "python",
   "nbconvert_exporter": "python",
   "pygments_lexer": "ipython3",
   "version": "3.6.8"
  }
 },
 "nbformat": 4,
 "nbformat_minor": 1
}
